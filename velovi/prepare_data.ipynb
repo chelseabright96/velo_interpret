{
 "cells": [
  {
   "cell_type": "code",
   "execution_count": 1,
   "metadata": {},
   "outputs": [
    {
     "name": "stderr",
     "output_type": "stream",
     "text": [
      "WARNING:root:In order to use the mouse gastrulation seqFISH datsets, please install squidpy (see https://github.com/scverse/squidpy).\n",
      "WARNING:root:In order to use sagenet models, please install pytorch geometric (see https://pytorch-geometric.readthedocs.io) and \n",
      " captum (see https://github.com/pytorch/captum).\n"
     ]
    },
    {
     "ename": "KeyboardInterrupt",
     "evalue": "",
     "output_type": "error",
     "traceback": [
      "\u001b[0;31m---------------------------------------------------------------------------\u001b[0m",
      "\u001b[0;31mKeyboardInterrupt\u001b[0m                         Traceback (most recent call last)",
      "Cell \u001b[0;32mIn[1], line 3\u001b[0m\n\u001b[1;32m      1\u001b[0m \u001b[39mimport\u001b[39;00m \u001b[39mscanpy\u001b[39;00m \u001b[39mas\u001b[39;00m \u001b[39msc\u001b[39;00m\n\u001b[1;32m      2\u001b[0m \u001b[39mimport\u001b[39;00m \u001b[39mscvelo\u001b[39;00m \u001b[39mas\u001b[39;00m \u001b[39mscv\u001b[39;00m\n\u001b[0;32m----> 3\u001b[0m \u001b[39mimport\u001b[39;00m \u001b[39mscarches\u001b[39;00m \u001b[39mas\u001b[39;00m \u001b[39msca\u001b[39;00m\n\u001b[1;32m      4\u001b[0m \u001b[39mimport\u001b[39;00m \u001b[39mnumpy\u001b[39;00m \u001b[39mas\u001b[39;00m \u001b[39mnp\u001b[39;00m\n\u001b[1;32m      5\u001b[0m \u001b[39mimport\u001b[39;00m \u001b[39mpandas\u001b[39;00m \u001b[39mas\u001b[39;00m \u001b[39mpd\u001b[39;00m\n",
      "File \u001b[0;32m~/anaconda3/envs/thesis/lib/python3.8/site-packages/scArches-0.5.5-py3.8.egg/scarches/__init__.py:1\u001b[0m\n\u001b[0;32m----> 1\u001b[0m \u001b[39mfrom\u001b[39;00m \u001b[39m.\u001b[39;00m \u001b[39mimport\u001b[39;00m dataset, metrics, trainers, models, zenodo, plotting, utils, classifiers\n\u001b[1;32m      3\u001b[0m __author__ \u001b[39m=\u001b[39m \u001b[39m'\u001b[39m\u001b[39m, \u001b[39m\u001b[39m'\u001b[39m\u001b[39m.\u001b[39mjoin([\n\u001b[1;32m      4\u001b[0m     \u001b[39m'\u001b[39m\u001b[39mMohammad Lotfollahi\u001b[39m\u001b[39m'\u001b[39m,\n\u001b[1;32m      5\u001b[0m     \u001b[39m'\u001b[39m\u001b[39mSergei Rybakov\u001b[39m\u001b[39m'\u001b[39m,\n\u001b[1;32m      6\u001b[0m     \u001b[39m'\u001b[39m\u001b[39mMarco Wagenstetter\u001b[39m\u001b[39m'\u001b[39m,\n\u001b[1;32m      7\u001b[0m     \u001b[39m'\u001b[39m\u001b[39mMohsen Naghipourfar\u001b[39m\u001b[39m'\u001b[39m,\n\u001b[1;32m      8\u001b[0m ])\n\u001b[1;32m     10\u001b[0m __email__ \u001b[39m=\u001b[39m \u001b[39m'\u001b[39m\u001b[39m, \u001b[39m\u001b[39m'\u001b[39m\u001b[39m.\u001b[39mjoin([\n\u001b[1;32m     11\u001b[0m     \u001b[39m'\u001b[39m\u001b[39mmohammad.lotfollahi@helmholtz-muenchen.de\u001b[39m\u001b[39m'\u001b[39m,\n\u001b[1;32m     12\u001b[0m     \u001b[39m'\u001b[39m\u001b[39msergei.rybakov@helmholtz-muenchen.de\u001b[39m\u001b[39m'\u001b[39m\n\u001b[1;32m     13\u001b[0m ])\n",
      "File \u001b[0;32m~/anaconda3/envs/thesis/lib/python3.8/site-packages/scArches-0.5.5-py3.8.egg/scarches/models/__init__.py:15\u001b[0m\n\u001b[1;32m     13\u001b[0m \u001b[39mfrom\u001b[39;00m \u001b[39m.\u001b[39;00m\u001b[39mexpimap\u001b[39;00m\u001b[39m.\u001b[39;00m\u001b[39mexpimap\u001b[39;00m \u001b[39mimport\u001b[39;00m expiMap\n\u001b[1;32m     14\u001b[0m \u001b[39mfrom\u001b[39;00m \u001b[39m.\u001b[39;00m\u001b[39mexpimap\u001b[39;00m\u001b[39m.\u001b[39;00m\u001b[39mexpimap_model\u001b[39;00m \u001b[39mimport\u001b[39;00m EXPIMAP\n\u001b[0;32m---> 15\u001b[0m \u001b[39mfrom\u001b[39;00m \u001b[39mscvi\u001b[39;00m\u001b[39m.\u001b[39;00m\u001b[39mmodel\u001b[39;00m \u001b[39mimport\u001b[39;00m SCVI, SCANVI, TOTALVI\n\u001b[1;32m     16\u001b[0m \u001b[39mtry\u001b[39;00m:\n\u001b[1;32m     17\u001b[0m     \u001b[39mimport\u001b[39;00m \u001b[39mtcr_embedding\u001b[39;00m \u001b[39mas\u001b[39;00m \u001b[39mmvTCR\u001b[39;00m\n",
      "File \u001b[0;32m~/code/scvi-tools/scvi/__init__.py:8\u001b[0m\n\u001b[1;32m      4\u001b[0m \u001b[39mimport\u001b[39;00m \u001b[39mlogging\u001b[39;00m\n\u001b[1;32m      6\u001b[0m \u001b[39mtry\u001b[39;00m:\n\u001b[1;32m      7\u001b[0m     \u001b[39m# necessary as importing scvi after ray causes kernel crash\u001b[39;00m\n\u001b[0;32m----> 8\u001b[0m     \u001b[39mfrom\u001b[39;00m \u001b[39mray\u001b[39;00m \u001b[39mimport\u001b[39;00m tune  \u001b[39m# noqa\u001b[39;00m\n\u001b[1;32m      9\u001b[0m \u001b[39mexcept\u001b[39;00m \u001b[39mImportError\u001b[39;00m:\n\u001b[1;32m     10\u001b[0m     \u001b[39mpass\u001b[39;00m\n",
      "File \u001b[0;32m~/anaconda3/envs/thesis/lib/python3.8/site-packages/ray/__init__.py:163\u001b[0m\n\u001b[1;32m    161\u001b[0m \u001b[39mfrom\u001b[39;00m \u001b[39mray\u001b[39;00m\u001b[39m.\u001b[39;00m\u001b[39mcross_language\u001b[39;00m \u001b[39mimport\u001b[39;00m java_function, java_actor_class  \u001b[39m# noqa: E402,F401\u001b[39;00m\n\u001b[1;32m    162\u001b[0m \u001b[39mfrom\u001b[39;00m \u001b[39mray\u001b[39;00m\u001b[39m.\u001b[39;00m\u001b[39mruntime_context\u001b[39;00m \u001b[39mimport\u001b[39;00m get_runtime_context  \u001b[39m# noqa: E402,F401\u001b[39;00m\n\u001b[0;32m--> 163\u001b[0m \u001b[39mfrom\u001b[39;00m \u001b[39mray\u001b[39;00m \u001b[39mimport\u001b[39;00m autoscaler  \u001b[39m# noqa: E402,F401\u001b[39;00m\n\u001b[1;32m    164\u001b[0m \u001b[39mfrom\u001b[39;00m \u001b[39mray\u001b[39;00m \u001b[39mimport\u001b[39;00m internal  \u001b[39m# noqa: E402,F401\u001b[39;00m\n\u001b[1;32m    165\u001b[0m \u001b[39mfrom\u001b[39;00m \u001b[39mray\u001b[39;00m \u001b[39mimport\u001b[39;00m util  \u001b[39m# noqa: E402,F401\u001b[39;00m\n",
      "File \u001b[0;32m~/anaconda3/envs/thesis/lib/python3.8/site-packages/ray/autoscaler/__init__.py:1\u001b[0m\n\u001b[0;32m----> 1\u001b[0m \u001b[39mfrom\u001b[39;00m \u001b[39mray\u001b[39;00m\u001b[39m.\u001b[39;00m\u001b[39mautoscaler\u001b[39;00m \u001b[39mimport\u001b[39;00m sdk\n\u001b[1;32m      3\u001b[0m __all__ \u001b[39m=\u001b[39m [\u001b[39m\"\u001b[39m\u001b[39msdk\u001b[39m\u001b[39m\"\u001b[39m]\n",
      "File \u001b[0;32m~/anaconda3/envs/thesis/lib/python3.8/site-packages/ray/autoscaler/sdk/__init__.py:1\u001b[0m\n\u001b[0;32m----> 1\u001b[0m \u001b[39mfrom\u001b[39;00m \u001b[39mray\u001b[39;00m\u001b[39m.\u001b[39;00m\u001b[39mautoscaler\u001b[39;00m\u001b[39m.\u001b[39;00m\u001b[39msdk\u001b[39;00m\u001b[39m.\u001b[39;00m\u001b[39msdk\u001b[39;00m \u001b[39mimport\u001b[39;00m (\n\u001b[1;32m      2\u001b[0m     bootstrap_config,\n\u001b[1;32m      3\u001b[0m     configure_logging,\n\u001b[1;32m      4\u001b[0m     create_or_update_cluster,\n\u001b[1;32m      5\u001b[0m     fillout_defaults,\n\u001b[1;32m      6\u001b[0m     get_docker_host_mount_location,\n\u001b[1;32m      7\u001b[0m     get_head_node_ip,\n\u001b[1;32m      8\u001b[0m     get_worker_node_ips,\n\u001b[1;32m      9\u001b[0m     register_callback_handler,\n\u001b[1;32m     10\u001b[0m     request_resources,\n\u001b[1;32m     11\u001b[0m     rsync,\n\u001b[1;32m     12\u001b[0m     run_on_cluster,\n\u001b[1;32m     13\u001b[0m     teardown_cluster,\n\u001b[1;32m     14\u001b[0m )\n\u001b[1;32m     16\u001b[0m __all__ \u001b[39m=\u001b[39m [\n\u001b[1;32m     17\u001b[0m     \u001b[39m\"\u001b[39m\u001b[39mcreate_or_update_cluster\u001b[39m\u001b[39m\"\u001b[39m,\n\u001b[1;32m     18\u001b[0m     \u001b[39m\"\u001b[39m\u001b[39mteardown_cluster\u001b[39m\u001b[39m\"\u001b[39m,\n\u001b[0;32m   (...)\u001b[0m\n\u001b[1;32m     28\u001b[0m     \u001b[39m\"\u001b[39m\u001b[39mget_docker_host_mount_location\u001b[39m\u001b[39m\"\u001b[39m,\n\u001b[1;32m     29\u001b[0m ]\n",
      "File \u001b[0;32m~/anaconda3/envs/thesis/lib/python3.8/site-packages/ray/autoscaler/sdk/sdk.py:9\u001b[0m\n\u001b[1;32m      6\u001b[0m \u001b[39mfrom\u001b[39;00m \u001b[39mcontextlib\u001b[39;00m \u001b[39mimport\u001b[39;00m contextmanager\n\u001b[1;32m      7\u001b[0m \u001b[39mfrom\u001b[39;00m \u001b[39mtyping\u001b[39;00m \u001b[39mimport\u001b[39;00m Any, Callable, Dict, Iterator, List, Optional, Union\n\u001b[0;32m----> 9\u001b[0m \u001b[39mfrom\u001b[39;00m \u001b[39mray\u001b[39;00m\u001b[39m.\u001b[39;00m\u001b[39mautoscaler\u001b[39;00m\u001b[39m.\u001b[39;00m\u001b[39m_private\u001b[39;00m \u001b[39mimport\u001b[39;00m commands\n\u001b[1;32m     10\u001b[0m \u001b[39mfrom\u001b[39;00m \u001b[39mray\u001b[39;00m\u001b[39m.\u001b[39;00m\u001b[39mautoscaler\u001b[39;00m\u001b[39m.\u001b[39;00m\u001b[39m_private\u001b[39;00m\u001b[39m.\u001b[39;00m\u001b[39mcli_logger\u001b[39;00m \u001b[39mimport\u001b[39;00m cli_logger\n\u001b[1;32m     11\u001b[0m \u001b[39mfrom\u001b[39;00m \u001b[39mray\u001b[39;00m\u001b[39m.\u001b[39;00m\u001b[39mautoscaler\u001b[39;00m\u001b[39m.\u001b[39;00m\u001b[39m_private\u001b[39;00m\u001b[39m.\u001b[39;00m\u001b[39mevent_system\u001b[39;00m \u001b[39mimport\u001b[39;00m CreateClusterEvent  \u001b[39m# noqa: F401\u001b[39;00m\n",
      "File \u001b[0;32m~/anaconda3/envs/thesis/lib/python3.8/site-packages/ray/autoscaler/_private/commands.py:21\u001b[0m\n\u001b[1;32m     18\u001b[0m \u001b[39mimport\u001b[39;00m \u001b[39myaml\u001b[39;00m\n\u001b[1;32m     20\u001b[0m \u001b[39mimport\u001b[39;00m \u001b[39mray\u001b[39;00m\n\u001b[0;32m---> 21\u001b[0m \u001b[39mfrom\u001b[39;00m \u001b[39mray\u001b[39;00m\u001b[39m.\u001b[39;00m\u001b[39m_private\u001b[39;00m\u001b[39m.\u001b[39;00m\u001b[39musage\u001b[39;00m \u001b[39mimport\u001b[39;00m usage_lib\n\u001b[1;32m     22\u001b[0m \u001b[39mfrom\u001b[39;00m \u001b[39mray\u001b[39;00m\u001b[39m.\u001b[39;00m\u001b[39mautoscaler\u001b[39;00m\u001b[39m.\u001b[39;00m\u001b[39m_private\u001b[39;00m \u001b[39mimport\u001b[39;00m subprocess_output_util \u001b[39mas\u001b[39;00m cmd_output_util\n\u001b[1;32m     23\u001b[0m \u001b[39mfrom\u001b[39;00m \u001b[39mray\u001b[39;00m\u001b[39m.\u001b[39;00m\u001b[39mautoscaler\u001b[39;00m\u001b[39m.\u001b[39;00m\u001b[39m_private\u001b[39;00m\u001b[39m.\u001b[39;00m\u001b[39mautoscaler\u001b[39;00m \u001b[39mimport\u001b[39;00m AutoscalerSummary\n",
      "File \u001b[0;32m~/anaconda3/envs/thesis/lib/python3.8/site-packages/ray/_private/usage/usage_lib.py:58\u001b[0m\n\u001b[1;32m     55\u001b[0m \u001b[39mfrom\u001b[39;00m \u001b[39mpathlib\u001b[39;00m \u001b[39mimport\u001b[39;00m Path\n\u001b[1;32m     56\u001b[0m \u001b[39mfrom\u001b[39;00m \u001b[39mtyping\u001b[39;00m \u001b[39mimport\u001b[39;00m Dict, List, Optional\n\u001b[0;32m---> 58\u001b[0m \u001b[39mimport\u001b[39;00m \u001b[39mrequests\u001b[39;00m\n\u001b[1;32m     59\u001b[0m \u001b[39mimport\u001b[39;00m \u001b[39myaml\u001b[39;00m\n\u001b[1;32m     61\u001b[0m \u001b[39mimport\u001b[39;00m \u001b[39mray\u001b[39;00m\n",
      "File \u001b[0;32m~/anaconda3/envs/thesis/lib/python3.8/site-packages/requests/__init__.py:160\u001b[0m\n\u001b[1;32m    147\u001b[0m \u001b[39mfrom\u001b[39;00m \u001b[39m.\u001b[39;00m \u001b[39mimport\u001b[39;00m packages, utils\n\u001b[1;32m    148\u001b[0m \u001b[39mfrom\u001b[39;00m \u001b[39m.\u001b[39;00m\u001b[39m__version__\u001b[39;00m \u001b[39mimport\u001b[39;00m (\n\u001b[1;32m    149\u001b[0m     __author__,\n\u001b[1;32m    150\u001b[0m     __author_email__,\n\u001b[0;32m   (...)\u001b[0m\n\u001b[1;32m    158\u001b[0m     __version__,\n\u001b[1;32m    159\u001b[0m )\n\u001b[0;32m--> 160\u001b[0m \u001b[39mfrom\u001b[39;00m \u001b[39m.\u001b[39;00m\u001b[39mapi\u001b[39;00m \u001b[39mimport\u001b[39;00m delete, get, head, options, patch, post, put, request\n\u001b[1;32m    161\u001b[0m \u001b[39mfrom\u001b[39;00m \u001b[39m.\u001b[39;00m\u001b[39mexceptions\u001b[39;00m \u001b[39mimport\u001b[39;00m (\n\u001b[1;32m    162\u001b[0m     \u001b[39mConnectionError\u001b[39;00m,\n\u001b[1;32m    163\u001b[0m     ConnectTimeout,\n\u001b[0;32m   (...)\u001b[0m\n\u001b[1;32m    171\u001b[0m     URLRequired,\n\u001b[1;32m    172\u001b[0m )\n\u001b[1;32m    173\u001b[0m \u001b[39mfrom\u001b[39;00m \u001b[39m.\u001b[39;00m\u001b[39mmodels\u001b[39;00m \u001b[39mimport\u001b[39;00m PreparedRequest, Request, Response\n",
      "File \u001b[0;32m~/anaconda3/envs/thesis/lib/python3.8/site-packages/requests/api.py:11\u001b[0m\n\u001b[1;32m      1\u001b[0m \u001b[39m\"\"\"\u001b[39;00m\n\u001b[1;32m      2\u001b[0m \u001b[39mrequests.api\u001b[39;00m\n\u001b[1;32m      3\u001b[0m \u001b[39m~~~~~~~~~~~~\u001b[39;00m\n\u001b[0;32m   (...)\u001b[0m\n\u001b[1;32m      8\u001b[0m \u001b[39m:license: Apache2, see LICENSE for more details.\u001b[39;00m\n\u001b[1;32m      9\u001b[0m \u001b[39m\"\"\"\u001b[39;00m\n\u001b[0;32m---> 11\u001b[0m \u001b[39mfrom\u001b[39;00m \u001b[39m.\u001b[39;00m \u001b[39mimport\u001b[39;00m sessions\n\u001b[1;32m     14\u001b[0m \u001b[39mdef\u001b[39;00m \u001b[39mrequest\u001b[39m(method, url, \u001b[39m*\u001b[39m\u001b[39m*\u001b[39mkwargs):\n\u001b[1;32m     15\u001b[0m     \u001b[39m\"\"\"Constructs and sends a :class:`Request <Request>`.\u001b[39;00m\n\u001b[1;32m     16\u001b[0m \n\u001b[1;32m     17\u001b[0m \u001b[39m    :param method: method for the new :class:`Request` object: ``GET``, ``OPTIONS``, ``HEAD``, ``POST``, ``PUT``, ``PATCH``, or ``DELETE``.\u001b[39;00m\n\u001b[0;32m   (...)\u001b[0m\n\u001b[1;32m     52\u001b[0m \u001b[39m      <Response [200]>\u001b[39;00m\n\u001b[1;32m     53\u001b[0m \u001b[39m    \"\"\"\u001b[39;00m\n",
      "File \u001b[0;32m~/anaconda3/envs/thesis/lib/python3.8/site-packages/requests/sessions.py:15\u001b[0m\n\u001b[1;32m     12\u001b[0m \u001b[39mfrom\u001b[39;00m \u001b[39mdatetime\u001b[39;00m \u001b[39mimport\u001b[39;00m timedelta\n\u001b[1;32m     14\u001b[0m \u001b[39mfrom\u001b[39;00m \u001b[39m.\u001b[39;00m\u001b[39m_internal_utils\u001b[39;00m \u001b[39mimport\u001b[39;00m to_native_string\n\u001b[0;32m---> 15\u001b[0m \u001b[39mfrom\u001b[39;00m \u001b[39m.\u001b[39;00m\u001b[39madapters\u001b[39;00m \u001b[39mimport\u001b[39;00m HTTPAdapter\n\u001b[1;32m     16\u001b[0m \u001b[39mfrom\u001b[39;00m \u001b[39m.\u001b[39;00m\u001b[39mauth\u001b[39;00m \u001b[39mimport\u001b[39;00m _basic_auth_str\n\u001b[1;32m     17\u001b[0m \u001b[39mfrom\u001b[39;00m \u001b[39m.\u001b[39;00m\u001b[39mcompat\u001b[39;00m \u001b[39mimport\u001b[39;00m Mapping, cookielib, urljoin, urlparse\n",
      "File \u001b[0;32m~/anaconda3/envs/thesis/lib/python3.8/site-packages/requests/adapters.py:45\u001b[0m\n\u001b[1;32m     32\u001b[0m \u001b[39mfrom\u001b[39;00m \u001b[39m.\u001b[39;00m\u001b[39mcookies\u001b[39;00m \u001b[39mimport\u001b[39;00m extract_cookies_to_jar\n\u001b[1;32m     33\u001b[0m \u001b[39mfrom\u001b[39;00m \u001b[39m.\u001b[39;00m\u001b[39mexceptions\u001b[39;00m \u001b[39mimport\u001b[39;00m (\n\u001b[1;32m     34\u001b[0m     \u001b[39mConnectionError\u001b[39;00m,\n\u001b[1;32m     35\u001b[0m     ConnectTimeout,\n\u001b[0;32m   (...)\u001b[0m\n\u001b[1;32m     43\u001b[0m     SSLError,\n\u001b[1;32m     44\u001b[0m )\n\u001b[0;32m---> 45\u001b[0m \u001b[39mfrom\u001b[39;00m \u001b[39m.\u001b[39;00m\u001b[39mmodels\u001b[39;00m \u001b[39mimport\u001b[39;00m Response\n\u001b[1;32m     46\u001b[0m \u001b[39mfrom\u001b[39;00m \u001b[39m.\u001b[39;00m\u001b[39mstructures\u001b[39;00m \u001b[39mimport\u001b[39;00m CaseInsensitiveDict\n\u001b[1;32m     47\u001b[0m \u001b[39mfrom\u001b[39;00m \u001b[39m.\u001b[39;00m\u001b[39mutils\u001b[39;00m \u001b[39mimport\u001b[39;00m (\n\u001b[1;32m     48\u001b[0m     DEFAULT_CA_BUNDLE_PATH,\n\u001b[1;32m     49\u001b[0m     extract_zipped_paths,\n\u001b[0;32m   (...)\u001b[0m\n\u001b[1;32m     54\u001b[0m     urldefragauth,\n\u001b[1;32m     55\u001b[0m )\n",
      "File \u001b[0;32m~/anaconda3/envs/thesis/lib/python3.8/site-packages/requests/models.py:53\u001b[0m\n\u001b[1;32m     51\u001b[0m \u001b[39mfrom\u001b[39;00m \u001b[39m.\u001b[39;00m\u001b[39mexceptions\u001b[39;00m \u001b[39mimport\u001b[39;00m SSLError \u001b[39mas\u001b[39;00m RequestsSSLError\n\u001b[1;32m     52\u001b[0m \u001b[39mfrom\u001b[39;00m \u001b[39m.\u001b[39;00m\u001b[39mexceptions\u001b[39;00m \u001b[39mimport\u001b[39;00m StreamConsumedError\n\u001b[0;32m---> 53\u001b[0m \u001b[39mfrom\u001b[39;00m \u001b[39m.\u001b[39;00m\u001b[39mhooks\u001b[39;00m \u001b[39mimport\u001b[39;00m default_hooks\n\u001b[1;32m     54\u001b[0m \u001b[39mfrom\u001b[39;00m \u001b[39m.\u001b[39;00m\u001b[39mstatus_codes\u001b[39;00m \u001b[39mimport\u001b[39;00m codes\n\u001b[1;32m     55\u001b[0m \u001b[39mfrom\u001b[39;00m \u001b[39m.\u001b[39;00m\u001b[39mstructures\u001b[39;00m \u001b[39mimport\u001b[39;00m CaseInsensitiveDict\n",
      "File \u001b[0;32m<frozen importlib._bootstrap>:991\u001b[0m, in \u001b[0;36m_find_and_load\u001b[0;34m(name, import_)\u001b[0m\n",
      "File \u001b[0;32m<frozen importlib._bootstrap>:975\u001b[0m, in \u001b[0;36m_find_and_load_unlocked\u001b[0;34m(name, import_)\u001b[0m\n",
      "File \u001b[0;32m<frozen importlib._bootstrap>:671\u001b[0m, in \u001b[0;36m_load_unlocked\u001b[0;34m(spec)\u001b[0m\n",
      "File \u001b[0;32m<frozen importlib._bootstrap_external>:839\u001b[0m, in \u001b[0;36mexec_module\u001b[0;34m(self, module)\u001b[0m\n",
      "File \u001b[0;32m<frozen importlib._bootstrap_external>:934\u001b[0m, in \u001b[0;36mget_code\u001b[0;34m(self, fullname)\u001b[0m\n",
      "File \u001b[0;32m<frozen importlib._bootstrap_external>:1033\u001b[0m, in \u001b[0;36mget_data\u001b[0;34m(self, path)\u001b[0m\n",
      "\u001b[0;31mKeyboardInterrupt\u001b[0m: "
     ]
    }
   ],
   "source": [
    "import scanpy as sc\n",
    "import scvelo as scv\n",
    "import scarches as sca\n",
    "import numpy as np\n",
    "import pandas as pd\n",
    "from velovi import preprocess_data\n",
    "import scarches as sca"
   ]
  },
  {
   "cell_type": "code",
   "execution_count": null,
   "metadata": {},
   "outputs": [],
   "source": [
    "#Change gene annotations pbmc\n",
    "\n",
    "annot = sc.queries.biomart_annotations(\n",
    "        \"hsapiens\",\n",
    "        [\"ensembl_gene_id\", \"start_position\", \"end_position\", \"chromosome_name\"],\n",
    "    ).set_index(\"ensembl_gene_id\")"
   ]
  },
  {
   "cell_type": "code",
   "execution_count": null,
   "metadata": {},
   "outputs": [],
   "source": [
    "adata.var[annot.columns] = annot"
   ]
  },
  {
   "cell_type": "code",
   "execution_count": 2,
   "metadata": {},
   "outputs": [],
   "source": [
    "dataset=\"hindbrain\""
   ]
  },
  {
   "cell_type": "code",
   "execution_count": 3,
   "metadata": {},
   "outputs": [],
   "source": [
    "if dataset==\"pancreas\":\n",
    "    input_adata_file = \"data/pancreas/endocrinogenesis_day15.h5ad\"\n",
    "    output_adata_file = \"data/pancreas/pancreas_data_annotations.h5ad\"\n",
    "elif dataset==\"dentategyrus\":\n",
    "    input_adata_file = \"data/dentategyrus/10X43_1.h5ad\"\n",
    "    output_adata_file = \"data/dentategyrus/dentategyrus_data_annotations.h5ad\"\n",
    "elif dataset==\"hindbrain\":\n",
    "    input_adata_file = \"data/hindbrain/Hindbrain_GABA_Glio.h5ad\"\n",
    "    output_adata_file = \"data/hindbrain/hindbrain_data_annotations.h5ad\"\n",
    "elif dataset==\"pbmc\":\n",
    "    input_adata_file = \"data/pbmc/pbmc_10k.h5ad\"\n",
    "    output_adata_file = \"data/pbmc/pbmc_data_annotations.h5ad\"\n",
    "    "
   ]
  },
  {
   "cell_type": "code",
   "execution_count": 4,
   "metadata": {},
   "outputs": [
    {
     "ename": "OSError",
     "evalue": "Unable to open file (truncated file: eof = 4194304, sblock->base_addr = 0, stored_eof = 259329434)",
     "output_type": "error",
     "traceback": [
      "\u001b[0;31m---------------------------------------------------------------------------\u001b[0m",
      "\u001b[0;31mOSError\u001b[0m                                   Traceback (most recent call last)",
      "Cell \u001b[0;32mIn[4], line 2\u001b[0m\n\u001b[1;32m      1\u001b[0m \u001b[39mimport\u001b[39;00m \u001b[39mscanpy\u001b[39;00m \u001b[39mas\u001b[39;00m \u001b[39msc\u001b[39;00m\n\u001b[0;32m----> 2\u001b[0m adata\u001b[39m=\u001b[39msc\u001b[39m.\u001b[39;49mread(input_adata_file)\n",
      "File \u001b[0;32m~/anaconda3/envs/thesis/lib/python3.8/site-packages/scanpy-1.9.1-py3.8.egg/scanpy/readwrite.py:112\u001b[0m, in \u001b[0;36mread\u001b[0;34m(filename, backed, sheet, ext, delimiter, first_column_names, backup_url, cache, cache_compression, **kwargs)\u001b[0m\n\u001b[1;32m    110\u001b[0m filename \u001b[39m=\u001b[39m Path(filename)  \u001b[39m# allow passing strings\u001b[39;00m\n\u001b[1;32m    111\u001b[0m \u001b[39mif\u001b[39;00m is_valid_filename(filename):\n\u001b[0;32m--> 112\u001b[0m     \u001b[39mreturn\u001b[39;00m _read(\n\u001b[1;32m    113\u001b[0m         filename,\n\u001b[1;32m    114\u001b[0m         backed\u001b[39m=\u001b[39;49mbacked,\n\u001b[1;32m    115\u001b[0m         sheet\u001b[39m=\u001b[39;49msheet,\n\u001b[1;32m    116\u001b[0m         ext\u001b[39m=\u001b[39;49mext,\n\u001b[1;32m    117\u001b[0m         delimiter\u001b[39m=\u001b[39;49mdelimiter,\n\u001b[1;32m    118\u001b[0m         first_column_names\u001b[39m=\u001b[39;49mfirst_column_names,\n\u001b[1;32m    119\u001b[0m         backup_url\u001b[39m=\u001b[39;49mbackup_url,\n\u001b[1;32m    120\u001b[0m         cache\u001b[39m=\u001b[39;49mcache,\n\u001b[1;32m    121\u001b[0m         cache_compression\u001b[39m=\u001b[39;49mcache_compression,\n\u001b[1;32m    122\u001b[0m         \u001b[39m*\u001b[39;49m\u001b[39m*\u001b[39;49mkwargs,\n\u001b[1;32m    123\u001b[0m     )\n\u001b[1;32m    124\u001b[0m \u001b[39m# generate filename and read to dict\u001b[39;00m\n\u001b[1;32m    125\u001b[0m filekey \u001b[39m=\u001b[39m \u001b[39mstr\u001b[39m(filename)\n",
      "File \u001b[0;32m~/anaconda3/envs/thesis/lib/python3.8/site-packages/scanpy-1.9.1-py3.8.egg/scanpy/readwrite.py:722\u001b[0m, in \u001b[0;36m_read\u001b[0;34m(filename, backed, sheet, ext, delimiter, first_column_names, backup_url, cache, cache_compression, suppress_cache_warning, **kwargs)\u001b[0m\n\u001b[1;32m    720\u001b[0m \u001b[39mif\u001b[39;00m ext \u001b[39min\u001b[39;00m {\u001b[39m'\u001b[39m\u001b[39mh5\u001b[39m\u001b[39m'\u001b[39m, \u001b[39m'\u001b[39m\u001b[39mh5ad\u001b[39m\u001b[39m'\u001b[39m}:\n\u001b[1;32m    721\u001b[0m     \u001b[39mif\u001b[39;00m sheet \u001b[39mis\u001b[39;00m \u001b[39mNone\u001b[39;00m:\n\u001b[0;32m--> 722\u001b[0m         \u001b[39mreturn\u001b[39;00m read_h5ad(filename, backed\u001b[39m=\u001b[39;49mbacked)\n\u001b[1;32m    723\u001b[0m     \u001b[39melse\u001b[39;00m:\n\u001b[1;32m    724\u001b[0m         logg\u001b[39m.\u001b[39mdebug(\u001b[39mf\u001b[39m\u001b[39m'\u001b[39m\u001b[39mreading sheet \u001b[39m\u001b[39m{\u001b[39;00msheet\u001b[39m}\u001b[39;00m\u001b[39m from file \u001b[39m\u001b[39m{\u001b[39;00mfilename\u001b[39m}\u001b[39;00m\u001b[39m'\u001b[39m)\n",
      "File \u001b[0;32m~/anaconda3/envs/thesis/lib/python3.8/site-packages/anndata/_io/h5ad.py:224\u001b[0m, in \u001b[0;36mread_h5ad\u001b[0;34m(filename, backed, as_sparse, as_sparse_fmt, chunk_size)\u001b[0m\n\u001b[1;32m    216\u001b[0m         \u001b[39mraise\u001b[39;00m \u001b[39mNotImplementedError\u001b[39;00m(\n\u001b[1;32m    217\u001b[0m             \u001b[39m\"\u001b[39m\u001b[39mCurrently only `X` and `raw/X` can be read as sparse.\u001b[39m\u001b[39m\"\u001b[39m\n\u001b[1;32m    218\u001b[0m         )\n\u001b[1;32m    220\u001b[0m rdasp \u001b[39m=\u001b[39m partial(\n\u001b[1;32m    221\u001b[0m     read_dense_as_sparse, sparse_format\u001b[39m=\u001b[39mas_sparse_fmt, axis_chunk\u001b[39m=\u001b[39mchunk_size\n\u001b[1;32m    222\u001b[0m )\n\u001b[0;32m--> 224\u001b[0m \u001b[39mwith\u001b[39;00m h5py\u001b[39m.\u001b[39;49mFile(filename, \u001b[39m\"\u001b[39;49m\u001b[39mr\u001b[39;49m\u001b[39m\"\u001b[39;49m) \u001b[39mas\u001b[39;00m f:\n\u001b[1;32m    225\u001b[0m     d \u001b[39m=\u001b[39m {}\n\u001b[1;32m    226\u001b[0m     \u001b[39mfor\u001b[39;00m k \u001b[39min\u001b[39;00m f\u001b[39m.\u001b[39mkeys():\n\u001b[1;32m    227\u001b[0m         \u001b[39m# Backwards compat for old raw\u001b[39;00m\n",
      "File \u001b[0;32m~/anaconda3/envs/thesis/lib/python3.8/site-packages/h5py/_hl/files.py:424\u001b[0m, in \u001b[0;36mFile.__init__\u001b[0;34m(self, name, mode, driver, libver, userblock_size, swmr, rdcc_nslots, rdcc_nbytes, rdcc_w0, track_order, fs_strategy, fs_persist, fs_threshold, **kwds)\u001b[0m\n\u001b[1;32m    422\u001b[0m \u001b[39mwith\u001b[39;00m phil:\n\u001b[1;32m    423\u001b[0m     fapl \u001b[39m=\u001b[39m make_fapl(driver, libver, rdcc_nslots, rdcc_nbytes, rdcc_w0, \u001b[39m*\u001b[39m\u001b[39m*\u001b[39mkwds)\n\u001b[0;32m--> 424\u001b[0m     fid \u001b[39m=\u001b[39m make_fid(name, mode, userblock_size,\n\u001b[1;32m    425\u001b[0m                    fapl, fcpl\u001b[39m=\u001b[39;49mmake_fcpl(track_order\u001b[39m=\u001b[39;49mtrack_order, fs_strategy\u001b[39m=\u001b[39;49mfs_strategy,\n\u001b[1;32m    426\u001b[0m                    fs_persist\u001b[39m=\u001b[39;49mfs_persist, fs_threshold\u001b[39m=\u001b[39;49mfs_threshold),\n\u001b[1;32m    427\u001b[0m                    swmr\u001b[39m=\u001b[39;49mswmr)\n\u001b[1;32m    429\u001b[0m \u001b[39mif\u001b[39;00m \u001b[39misinstance\u001b[39m(libver, \u001b[39mtuple\u001b[39m):\n\u001b[1;32m    430\u001b[0m     \u001b[39mself\u001b[39m\u001b[39m.\u001b[39m_libver \u001b[39m=\u001b[39m libver\n",
      "File \u001b[0;32m~/anaconda3/envs/thesis/lib/python3.8/site-packages/h5py/_hl/files.py:190\u001b[0m, in \u001b[0;36mmake_fid\u001b[0;34m(name, mode, userblock_size, fapl, fcpl, swmr)\u001b[0m\n\u001b[1;32m    188\u001b[0m     \u001b[39mif\u001b[39;00m swmr \u001b[39mand\u001b[39;00m swmr_support:\n\u001b[1;32m    189\u001b[0m         flags \u001b[39m|\u001b[39m\u001b[39m=\u001b[39m h5f\u001b[39m.\u001b[39mACC_SWMR_READ\n\u001b[0;32m--> 190\u001b[0m     fid \u001b[39m=\u001b[39m h5f\u001b[39m.\u001b[39;49mopen(name, flags, fapl\u001b[39m=\u001b[39;49mfapl)\n\u001b[1;32m    191\u001b[0m \u001b[39melif\u001b[39;00m mode \u001b[39m==\u001b[39m \u001b[39m'\u001b[39m\u001b[39mr+\u001b[39m\u001b[39m'\u001b[39m:\n\u001b[1;32m    192\u001b[0m     fid \u001b[39m=\u001b[39m h5f\u001b[39m.\u001b[39mopen(name, h5f\u001b[39m.\u001b[39mACC_RDWR, fapl\u001b[39m=\u001b[39mfapl)\n",
      "File \u001b[0;32mh5py/_objects.pyx:54\u001b[0m, in \u001b[0;36mh5py._objects.with_phil.wrapper\u001b[0;34m()\u001b[0m\n",
      "File \u001b[0;32mh5py/_objects.pyx:55\u001b[0m, in \u001b[0;36mh5py._objects.with_phil.wrapper\u001b[0;34m()\u001b[0m\n",
      "File \u001b[0;32mh5py/h5f.pyx:96\u001b[0m, in \u001b[0;36mh5py.h5f.open\u001b[0;34m()\u001b[0m\n",
      "\u001b[0;31mOSError\u001b[0m: Unable to open file (truncated file: eof = 4194304, sblock->base_addr = 0, stored_eof = 259329434)"
     ]
    }
   ],
   "source": [
    "import scanpy as sc\n",
    "adata=sc.read(input_adata_file)"
   ]
  },
  {
   "cell_type": "code",
   "execution_count": 3,
   "metadata": {},
   "outputs": [
    {
     "ename": "KeyError",
     "evalue": "'spliced'",
     "output_type": "error",
     "traceback": [
      "\u001b[0;31m---------------------------------------------------------------------------\u001b[0m",
      "\u001b[0;31mKeyError\u001b[0m                                  Traceback (most recent call last)",
      "\u001b[0;32m/tmp/ipykernel_19717/1922483327.py\u001b[0m in \u001b[0;36m<module>\u001b[0;34m\u001b[0m\n\u001b[0;32m----> 1\u001b[0;31m \u001b[0madata\u001b[0m\u001b[0;34m.\u001b[0m\u001b[0mlayers\u001b[0m\u001b[0;34m[\u001b[0m\u001b[0;34m\"spliced\"\u001b[0m\u001b[0;34m]\u001b[0m\u001b[0;34m=\u001b[0m\u001b[0madata\u001b[0m\u001b[0;34m.\u001b[0m\u001b[0mlayers\u001b[0m\u001b[0;34m[\u001b[0m\u001b[0;34m\"spliced\"\u001b[0m\u001b[0;34m]\u001b[0m\u001b[0;34m.\u001b[0m\u001b[0mtodense\u001b[0m\u001b[0;34m(\u001b[0m\u001b[0;34m)\u001b[0m\u001b[0;34m\u001b[0m\u001b[0;34m\u001b[0m\u001b[0m\n\u001b[0m\u001b[1;32m      2\u001b[0m \u001b[0madata\u001b[0m\u001b[0;34m.\u001b[0m\u001b[0mlayers\u001b[0m\u001b[0;34m[\u001b[0m\u001b[0;34m\"unspliced\"\u001b[0m\u001b[0;34m]\u001b[0m\u001b[0;34m=\u001b[0m\u001b[0madata\u001b[0m\u001b[0;34m.\u001b[0m\u001b[0mlayers\u001b[0m\u001b[0;34m[\u001b[0m\u001b[0;34m\"unspliced\"\u001b[0m\u001b[0;34m]\u001b[0m\u001b[0;34m.\u001b[0m\u001b[0mtodense\u001b[0m\u001b[0;34m(\u001b[0m\u001b[0;34m)\u001b[0m\u001b[0;34m\u001b[0m\u001b[0;34m\u001b[0m\u001b[0m\n",
      "\u001b[0;32m~/.local/lib/python3.8/site-packages/anndata/_core/aligned_mapping.py\u001b[0m in \u001b[0;36m__getitem__\u001b[0;34m(self, key)\u001b[0m\n\u001b[1;32m    146\u001b[0m \u001b[0;34m\u001b[0m\u001b[0m\n\u001b[1;32m    147\u001b[0m     \u001b[0;32mdef\u001b[0m \u001b[0m__getitem__\u001b[0m\u001b[0;34m(\u001b[0m\u001b[0mself\u001b[0m\u001b[0;34m,\u001b[0m \u001b[0mkey\u001b[0m\u001b[0;34m:\u001b[0m \u001b[0mstr\u001b[0m\u001b[0;34m)\u001b[0m \u001b[0;34m->\u001b[0m \u001b[0mV\u001b[0m\u001b[0;34m:\u001b[0m\u001b[0;34m\u001b[0m\u001b[0;34m\u001b[0m\u001b[0m\n\u001b[0;32m--> 148\u001b[0;31m         \u001b[0;32mreturn\u001b[0m \u001b[0mself\u001b[0m\u001b[0;34m.\u001b[0m\u001b[0m_data\u001b[0m\u001b[0;34m[\u001b[0m\u001b[0mkey\u001b[0m\u001b[0;34m]\u001b[0m\u001b[0;34m\u001b[0m\u001b[0;34m\u001b[0m\u001b[0m\n\u001b[0m\u001b[1;32m    149\u001b[0m \u001b[0;34m\u001b[0m\u001b[0m\n\u001b[1;32m    150\u001b[0m     \u001b[0;32mdef\u001b[0m \u001b[0m__setitem__\u001b[0m\u001b[0;34m(\u001b[0m\u001b[0mself\u001b[0m\u001b[0;34m,\u001b[0m \u001b[0mkey\u001b[0m\u001b[0;34m:\u001b[0m \u001b[0mstr\u001b[0m\u001b[0;34m,\u001b[0m \u001b[0mvalue\u001b[0m\u001b[0;34m:\u001b[0m \u001b[0mV\u001b[0m\u001b[0;34m)\u001b[0m\u001b[0;34m:\u001b[0m\u001b[0;34m\u001b[0m\u001b[0;34m\u001b[0m\u001b[0m\n",
      "\u001b[0;31mKeyError\u001b[0m: 'spliced'"
     ]
    }
   ],
   "source": [
    "adata.layers[\"spliced\"]=adata.layers[\"spliced\"].todense()\n",
    "adata.layers[\"unspliced\"]=adata.layers[\"unspliced\"].todense()"
   ]
  },
  {
   "cell_type": "code",
   "execution_count": 6,
   "metadata": {},
   "outputs": [
    {
     "name": "stdout",
     "output_type": "stream",
     "text": [
      "Filtered out 20801 genes that are detected 20 counts (shared).\n",
      "Normalized count data: X, spliced, unspliced.\n",
      "Extracted 2000 highly variable genes.\n",
      "Logarithmized X.\n",
      "computing neighbors\n"
     ]
    },
    {
     "name": "stderr",
     "output_type": "stream",
     "text": [
      "OMP: Info #276: omp_set_nested routine deprecated, please use omp_set_max_active_levels instead.\n"
     ]
    },
    {
     "name": "stdout",
     "output_type": "stream",
     "text": [
      "    finished (0:00:04) --> added \n",
      "    'distances' and 'connectivities', weighted adjacency matrices (adata.obsp)\n",
      "computing moments based on connectivities\n",
      "    finished (0:00:00) --> added \n",
      "    'Ms' and 'Mu', moments of un/spliced abundances (adata.layers)\n",
      "computing velocities\n",
      "    finished (0:00:00) --> added \n",
      "    'velocity', velocity vectors for each individual cell (adata.layers)\n"
     ]
    }
   ],
   "source": [
    "scv.pp.filter_and_normalize(adata, min_shared_counts=20, n_top_genes=2000)\n",
    "scv.pp.moments(adata, n_pcs=30, n_neighbors=30)\n",
    "\n",
    "adata = preprocess_data(adata)"
   ]
  },
  {
   "cell_type": "code",
   "execution_count": 7,
   "metadata": {},
   "outputs": [],
   "source": [
    "data_path='data/annotations/'\n",
    "sca.utils.add_annotations(adata, [data_path+'PanglaoDB_markers_27_Mar_2020.gmt',data_path+'reactome.gmt'], min_genes=5, clean=True)\n",
    "#Remove all genes not present in annotations\n",
    "adata._inplace_subset_var(adata.varm['I'].sum(1)>0)\n",
    "\n",
    "sc.pp.normalize_total(adata)\n",
    "sc.pp.log1p(adata)\n",
    "sc.pp.highly_variable_genes(\n",
    "    adata,\n",
    "    n_top_genes=2000,\n",
    "    batch_key=\"batch\",\n",
    "    subset=True)\n",
    "\n",
    "#Filter out terms with less than 12 genes \n",
    "select_terms = adata.varm['I'].sum(0)>12\n",
    "adata.uns['terms'] = np.array(adata.uns['terms'])[select_terms].tolist()\n",
    "adata.varm['I'] = adata.varm['I'][:, select_terms]"
   ]
  },
  {
   "cell_type": "code",
   "execution_count": 18,
   "metadata": {},
   "outputs": [],
   "source": [
    "adata.write_h5ad(output_adata_file)"
   ]
  }
 ],
 "metadata": {
  "kernelspec": {
   "display_name": "thesis",
   "language": "python",
   "name": "python3"
  },
  "language_info": {
   "codemirror_mode": {
    "name": "ipython",
    "version": 3
   },
   "file_extension": ".py",
   "mimetype": "text/x-python",
   "name": "python",
   "nbconvert_exporter": "python",
   "pygments_lexer": "ipython3",
   "version": "3.8.15"
  },
  "orig_nbformat": 4,
  "vscode": {
   "interpreter": {
    "hash": "6f1d1c1610f6adb03886972ace4797a1fd650d0e9863367ffaa949bef48737f5"
   }
  }
 },
 "nbformat": 4,
 "nbformat_minor": 2
}
