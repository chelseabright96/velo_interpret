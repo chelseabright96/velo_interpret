{
 "cells": [
  {
   "cell_type": "code",
   "execution_count": 1,
   "metadata": {},
   "outputs": [
    {
     "name": "stderr",
     "output_type": "stream",
     "text": [
      "Global seed set to 0\n",
      "/home/chels/anaconda3/envs/thesis/lib/python3.8/site-packages/pytorch_lightning/utilities/warnings.py:53: LightningDeprecationWarning: pytorch_lightning.utilities.warnings.rank_zero_deprecation has been deprecated in v1.6 and will be removed in v1.8. Use the equivalent function from the pytorch_lightning.utilities.rank_zero module instead.\n",
      "  new_rank_zero_deprecation(\n",
      "/home/chels/anaconda3/envs/thesis/lib/python3.8/site-packages/pytorch_lightning/utilities/warnings.py:58: LightningDeprecationWarning: The `pytorch_lightning.loggers.base.rank_zero_experiment` is deprecated in v1.7 and will be removed in v1.9. Please use `pytorch_lightning.loggers.logger.rank_zero_experiment` instead.\n",
      "  return new_rank_zero_deprecation(*args, **kwargs)\n"
     ]
    }
   ],
   "source": [
    "import scanpy as sc\n",
    "import scvelo as scv\n",
    "import scarches as sca\n",
    "import numpy as np\n",
    "import pandas as pd\n",
    "from velovi import preprocess_data\n",
    "import scarches as sca"
   ]
  },
  {
   "cell_type": "code",
   "execution_count": 2,
   "metadata": {},
   "outputs": [],
   "source": [
    "adata=sc.read(\"data/pbmc/kang_count.h5ad\")"
   ]
  },
  {
   "cell_type": "code",
   "execution_count": 5,
   "metadata": {},
   "outputs": [
    {
     "data": {
      "text/html": [
       "<div>\n",
       "<style scoped>\n",
       "    .dataframe tbody tr th:only-of-type {\n",
       "        vertical-align: middle;\n",
       "    }\n",
       "\n",
       "    .dataframe tbody tr th {\n",
       "        vertical-align: top;\n",
       "    }\n",
       "\n",
       "    .dataframe thead th {\n",
       "        text-align: right;\n",
       "    }\n",
       "</style>\n",
       "<table border=\"1\" class=\"dataframe\">\n",
       "  <thead>\n",
       "    <tr style=\"text-align: right;\">\n",
       "      <th></th>\n",
       "      <th>orig.ident</th>\n",
       "      <th>nCount_RNA</th>\n",
       "      <th>nFeature_RNA</th>\n",
       "      <th>stim</th>\n",
       "      <th>seurat_annotations</th>\n",
       "      <th>integrated_snn_res.0.5</th>\n",
       "      <th>seurat_clusters</th>\n",
       "      <th>condition</th>\n",
       "      <th>cell_type</th>\n",
       "    </tr>\n",
       "    <tr>\n",
       "      <th>index</th>\n",
       "      <th></th>\n",
       "      <th></th>\n",
       "      <th></th>\n",
       "      <th></th>\n",
       "      <th></th>\n",
       "      <th></th>\n",
       "      <th></th>\n",
       "      <th></th>\n",
       "      <th></th>\n",
       "    </tr>\n",
       "  </thead>\n",
       "  <tbody>\n",
       "    <tr>\n",
       "      <th>AAACATACATTTCC.1</th>\n",
       "      <td>IMMUNE_CTRL</td>\n",
       "      <td>3017</td>\n",
       "      <td>877</td>\n",
       "      <td>CTRL</td>\n",
       "      <td>CD14 Mono</td>\n",
       "      <td>0</td>\n",
       "      <td>0</td>\n",
       "      <td>control</td>\n",
       "      <td>CD14 Mono</td>\n",
       "    </tr>\n",
       "    <tr>\n",
       "      <th>AAACATACCAGAAA.1</th>\n",
       "      <td>IMMUNE_CTRL</td>\n",
       "      <td>2481</td>\n",
       "      <td>713</td>\n",
       "      <td>CTRL</td>\n",
       "      <td>CD14 Mono</td>\n",
       "      <td>0</td>\n",
       "      <td>0</td>\n",
       "      <td>control</td>\n",
       "      <td>CD14 Mono</td>\n",
       "    </tr>\n",
       "    <tr>\n",
       "      <th>AAACATACCTCGCT.1</th>\n",
       "      <td>IMMUNE_CTRL</td>\n",
       "      <td>3420</td>\n",
       "      <td>850</td>\n",
       "      <td>CTRL</td>\n",
       "      <td>CD14 Mono</td>\n",
       "      <td>0</td>\n",
       "      <td>0</td>\n",
       "      <td>control</td>\n",
       "      <td>CD14 Mono</td>\n",
       "    </tr>\n",
       "    <tr>\n",
       "      <th>AAACATACGATGAA.1</th>\n",
       "      <td>IMMUNE_CTRL</td>\n",
       "      <td>1868</td>\n",
       "      <td>634</td>\n",
       "      <td>CTRL</td>\n",
       "      <td>CD4 Memory T</td>\n",
       "      <td>2</td>\n",
       "      <td>2</td>\n",
       "      <td>control</td>\n",
       "      <td>CD4 T</td>\n",
       "    </tr>\n",
       "    <tr>\n",
       "      <th>AAACATACGGCATT.1</th>\n",
       "      <td>IMMUNE_CTRL</td>\n",
       "      <td>1581</td>\n",
       "      <td>557</td>\n",
       "      <td>CTRL</td>\n",
       "      <td>CD14 Mono</td>\n",
       "      <td>0</td>\n",
       "      <td>0</td>\n",
       "      <td>control</td>\n",
       "      <td>CD14 Mono</td>\n",
       "    </tr>\n",
       "    <tr>\n",
       "      <th>...</th>\n",
       "      <td>...</td>\n",
       "      <td>...</td>\n",
       "      <td>...</td>\n",
       "      <td>...</td>\n",
       "      <td>...</td>\n",
       "      <td>...</td>\n",
       "      <td>...</td>\n",
       "      <td>...</td>\n",
       "      <td>...</td>\n",
       "    </tr>\n",
       "    <tr>\n",
       "      <th>TTTGCATGAACGAA.1</th>\n",
       "      <td>IMMUNE_STIM</td>\n",
       "      <td>5577</td>\n",
       "      <td>1237</td>\n",
       "      <td>STIM</td>\n",
       "      <td>DC</td>\n",
       "      <td>8</td>\n",
       "      <td>8</td>\n",
       "      <td>stimulated</td>\n",
       "      <td>DC</td>\n",
       "    </tr>\n",
       "    <tr>\n",
       "      <th>TTTGCATGACGTAC.1</th>\n",
       "      <td>IMMUNE_STIM</td>\n",
       "      <td>1364</td>\n",
       "      <td>536</td>\n",
       "      <td>STIM</td>\n",
       "      <td>CD4 Memory T</td>\n",
       "      <td>2</td>\n",
       "      <td>2</td>\n",
       "      <td>stimulated</td>\n",
       "      <td>CD4 T</td>\n",
       "    </tr>\n",
       "    <tr>\n",
       "      <th>TTTGCATGCCTGTC.1</th>\n",
       "      <td>IMMUNE_STIM</td>\n",
       "      <td>2114</td>\n",
       "      <td>817</td>\n",
       "      <td>STIM</td>\n",
       "      <td>B</td>\n",
       "      <td>4</td>\n",
       "      <td>4</td>\n",
       "      <td>stimulated</td>\n",
       "      <td>B</td>\n",
       "    </tr>\n",
       "    <tr>\n",
       "      <th>TTTGCATGCTAAGC.1</th>\n",
       "      <td>IMMUNE_STIM</td>\n",
       "      <td>1522</td>\n",
       "      <td>523</td>\n",
       "      <td>STIM</td>\n",
       "      <td>CD4 Naive T</td>\n",
       "      <td>1</td>\n",
       "      <td>1</td>\n",
       "      <td>stimulated</td>\n",
       "      <td>CD4 T</td>\n",
       "    </tr>\n",
       "    <tr>\n",
       "      <th>TTTGCATGGGACGA.1</th>\n",
       "      <td>IMMUNE_STIM</td>\n",
       "      <td>1143</td>\n",
       "      <td>503</td>\n",
       "      <td>STIM</td>\n",
       "      <td>CD4 Naive T</td>\n",
       "      <td>1</td>\n",
       "      <td>1</td>\n",
       "      <td>stimulated</td>\n",
       "      <td>CD4 T</td>\n",
       "    </tr>\n",
       "  </tbody>\n",
       "</table>\n",
       "<p>13576 rows × 9 columns</p>\n",
       "</div>"
      ],
      "text/plain": [
       "                   orig.ident  nCount_RNA  nFeature_RNA  stim  \\\n",
       "index                                                           \n",
       "AAACATACATTTCC.1  IMMUNE_CTRL        3017           877  CTRL   \n",
       "AAACATACCAGAAA.1  IMMUNE_CTRL        2481           713  CTRL   \n",
       "AAACATACCTCGCT.1  IMMUNE_CTRL        3420           850  CTRL   \n",
       "AAACATACGATGAA.1  IMMUNE_CTRL        1868           634  CTRL   \n",
       "AAACATACGGCATT.1  IMMUNE_CTRL        1581           557  CTRL   \n",
       "...                       ...         ...           ...   ...   \n",
       "TTTGCATGAACGAA.1  IMMUNE_STIM        5577          1237  STIM   \n",
       "TTTGCATGACGTAC.1  IMMUNE_STIM        1364           536  STIM   \n",
       "TTTGCATGCCTGTC.1  IMMUNE_STIM        2114           817  STIM   \n",
       "TTTGCATGCTAAGC.1  IMMUNE_STIM        1522           523  STIM   \n",
       "TTTGCATGGGACGA.1  IMMUNE_STIM        1143           503  STIM   \n",
       "\n",
       "                 seurat_annotations  integrated_snn_res.0.5  seurat_clusters  \\\n",
       "index                                                                          \n",
       "AAACATACATTTCC.1          CD14 Mono                       0                0   \n",
       "AAACATACCAGAAA.1          CD14 Mono                       0                0   \n",
       "AAACATACCTCGCT.1          CD14 Mono                       0                0   \n",
       "AAACATACGATGAA.1       CD4 Memory T                       2                2   \n",
       "AAACATACGGCATT.1          CD14 Mono                       0                0   \n",
       "...                             ...                     ...              ...   \n",
       "TTTGCATGAACGAA.1                 DC                       8                8   \n",
       "TTTGCATGACGTAC.1       CD4 Memory T                       2                2   \n",
       "TTTGCATGCCTGTC.1                  B                       4                4   \n",
       "TTTGCATGCTAAGC.1        CD4 Naive T                       1                1   \n",
       "TTTGCATGGGACGA.1        CD4 Naive T                       1                1   \n",
       "\n",
       "                   condition  cell_type  \n",
       "index                                    \n",
       "AAACATACATTTCC.1     control  CD14 Mono  \n",
       "AAACATACCAGAAA.1     control  CD14 Mono  \n",
       "AAACATACCTCGCT.1     control  CD14 Mono  \n",
       "AAACATACGATGAA.1     control      CD4 T  \n",
       "AAACATACGGCATT.1     control  CD14 Mono  \n",
       "...                      ...        ...  \n",
       "TTTGCATGAACGAA.1  stimulated         DC  \n",
       "TTTGCATGACGTAC.1  stimulated      CD4 T  \n",
       "TTTGCATGCCTGTC.1  stimulated          B  \n",
       "TTTGCATGCTAAGC.1  stimulated      CD4 T  \n",
       "TTTGCATGGGACGA.1  stimulated      CD4 T  \n",
       "\n",
       "[13576 rows x 9 columns]"
      ]
     },
     "execution_count": 5,
     "metadata": {},
     "output_type": "execute_result"
    }
   ],
   "source": [
    "adata.obs"
   ]
  },
  {
   "cell_type": "code",
   "execution_count": 2,
   "metadata": {},
   "outputs": [],
   "source": [
    "dataset=\"pancreas\""
   ]
  },
  {
   "cell_type": "code",
   "execution_count": 3,
   "metadata": {},
   "outputs": [],
   "source": [
    "if dataset==\"pancreas\":\n",
    "    input_adata_file = \"data/pancreas/endocrinogenesis_day15.h5ad\"\n",
    "    output_adata_file = \"data/pancreas/pancreas_data_annotations.h5ad\"\n",
    "elif dataset==\"dentategyrus\":\n",
    "    input_adata_file = \"data/dentategyrus/10X43_1.h5ad\"\n",
    "    output_adata_file = \"data/dentategyrus/dentategyrus_data_annotations.h5ad\"\n",
    "elif dataset==\"hindbrain\":\n",
    "    input_adata_file = \"data/hindbrain/Hindbrain_GABA_Glio.h5ad\"\n",
    "    output_adata_file = \"data/hindbrain/hindbrain_data_annotations.h5ad\"\n",
    "elif dataset==\"pbmc\":\n",
    "    input_adata_file = \"data/pbmc/pbmc_10k.h5ad\"\n",
    "    output_adata_file = \"data/pbmc/pbmc_data_annotations.h5ad\"\n",
    "    "
   ]
  },
  {
   "cell_type": "code",
   "execution_count": 4,
   "metadata": {},
   "outputs": [],
   "source": [
    "import scanpy as sc\n",
    "adata=sc.read(input_adata_file)"
   ]
  },
  {
   "cell_type": "code",
   "execution_count": 3,
   "metadata": {},
   "outputs": [
    {
     "ename": "KeyError",
     "evalue": "'spliced'",
     "output_type": "error",
     "traceback": [
      "\u001b[0;31m---------------------------------------------------------------------------\u001b[0m",
      "\u001b[0;31mKeyError\u001b[0m                                  Traceback (most recent call last)",
      "\u001b[0;32m/tmp/ipykernel_19717/1922483327.py\u001b[0m in \u001b[0;36m<module>\u001b[0;34m\u001b[0m\n\u001b[0;32m----> 1\u001b[0;31m \u001b[0madata\u001b[0m\u001b[0;34m.\u001b[0m\u001b[0mlayers\u001b[0m\u001b[0;34m[\u001b[0m\u001b[0;34m\"spliced\"\u001b[0m\u001b[0;34m]\u001b[0m\u001b[0;34m=\u001b[0m\u001b[0madata\u001b[0m\u001b[0;34m.\u001b[0m\u001b[0mlayers\u001b[0m\u001b[0;34m[\u001b[0m\u001b[0;34m\"spliced\"\u001b[0m\u001b[0;34m]\u001b[0m\u001b[0;34m.\u001b[0m\u001b[0mtodense\u001b[0m\u001b[0;34m(\u001b[0m\u001b[0;34m)\u001b[0m\u001b[0;34m\u001b[0m\u001b[0;34m\u001b[0m\u001b[0m\n\u001b[0m\u001b[1;32m      2\u001b[0m \u001b[0madata\u001b[0m\u001b[0;34m.\u001b[0m\u001b[0mlayers\u001b[0m\u001b[0;34m[\u001b[0m\u001b[0;34m\"unspliced\"\u001b[0m\u001b[0;34m]\u001b[0m\u001b[0;34m=\u001b[0m\u001b[0madata\u001b[0m\u001b[0;34m.\u001b[0m\u001b[0mlayers\u001b[0m\u001b[0;34m[\u001b[0m\u001b[0;34m\"unspliced\"\u001b[0m\u001b[0;34m]\u001b[0m\u001b[0;34m.\u001b[0m\u001b[0mtodense\u001b[0m\u001b[0;34m(\u001b[0m\u001b[0;34m)\u001b[0m\u001b[0;34m\u001b[0m\u001b[0;34m\u001b[0m\u001b[0m\n",
      "\u001b[0;32m~/.local/lib/python3.8/site-packages/anndata/_core/aligned_mapping.py\u001b[0m in \u001b[0;36m__getitem__\u001b[0;34m(self, key)\u001b[0m\n\u001b[1;32m    146\u001b[0m \u001b[0;34m\u001b[0m\u001b[0m\n\u001b[1;32m    147\u001b[0m     \u001b[0;32mdef\u001b[0m \u001b[0m__getitem__\u001b[0m\u001b[0;34m(\u001b[0m\u001b[0mself\u001b[0m\u001b[0;34m,\u001b[0m \u001b[0mkey\u001b[0m\u001b[0;34m:\u001b[0m \u001b[0mstr\u001b[0m\u001b[0;34m)\u001b[0m \u001b[0;34m->\u001b[0m \u001b[0mV\u001b[0m\u001b[0;34m:\u001b[0m\u001b[0;34m\u001b[0m\u001b[0;34m\u001b[0m\u001b[0m\n\u001b[0;32m--> 148\u001b[0;31m         \u001b[0;32mreturn\u001b[0m \u001b[0mself\u001b[0m\u001b[0;34m.\u001b[0m\u001b[0m_data\u001b[0m\u001b[0;34m[\u001b[0m\u001b[0mkey\u001b[0m\u001b[0;34m]\u001b[0m\u001b[0;34m\u001b[0m\u001b[0;34m\u001b[0m\u001b[0m\n\u001b[0m\u001b[1;32m    149\u001b[0m \u001b[0;34m\u001b[0m\u001b[0m\n\u001b[1;32m    150\u001b[0m     \u001b[0;32mdef\u001b[0m \u001b[0m__setitem__\u001b[0m\u001b[0;34m(\u001b[0m\u001b[0mself\u001b[0m\u001b[0;34m,\u001b[0m \u001b[0mkey\u001b[0m\u001b[0;34m:\u001b[0m \u001b[0mstr\u001b[0m\u001b[0;34m,\u001b[0m \u001b[0mvalue\u001b[0m\u001b[0;34m:\u001b[0m \u001b[0mV\u001b[0m\u001b[0;34m)\u001b[0m\u001b[0;34m:\u001b[0m\u001b[0;34m\u001b[0m\u001b[0;34m\u001b[0m\u001b[0m\n",
      "\u001b[0;31mKeyError\u001b[0m: 'spliced'"
     ]
    }
   ],
   "source": [
    "adata.layers[\"spliced\"]=adata.layers[\"spliced\"].todense()\n",
    "adata.layers[\"unspliced\"]=adata.layers[\"unspliced\"].todense()"
   ]
  },
  {
   "cell_type": "code",
   "execution_count": 6,
   "metadata": {},
   "outputs": [
    {
     "name": "stdout",
     "output_type": "stream",
     "text": [
      "Filtered out 20801 genes that are detected 20 counts (shared).\n",
      "Normalized count data: X, spliced, unspliced.\n",
      "Extracted 2000 highly variable genes.\n",
      "Logarithmized X.\n",
      "computing neighbors\n"
     ]
    },
    {
     "name": "stderr",
     "output_type": "stream",
     "text": [
      "OMP: Info #276: omp_set_nested routine deprecated, please use omp_set_max_active_levels instead.\n"
     ]
    },
    {
     "name": "stdout",
     "output_type": "stream",
     "text": [
      "    finished (0:00:04) --> added \n",
      "    'distances' and 'connectivities', weighted adjacency matrices (adata.obsp)\n",
      "computing moments based on connectivities\n",
      "    finished (0:00:00) --> added \n",
      "    'Ms' and 'Mu', moments of un/spliced abundances (adata.layers)\n",
      "computing velocities\n",
      "    finished (0:00:00) --> added \n",
      "    'velocity', velocity vectors for each individual cell (adata.layers)\n"
     ]
    }
   ],
   "source": [
    "scv.pp.filter_and_normalize(adata, min_shared_counts=20, n_top_genes=2000)\n",
    "scv.pp.moments(adata, n_pcs=30, n_neighbors=30)\n",
    "\n",
    "adata = preprocess_data(adata)"
   ]
  },
  {
   "cell_type": "code",
   "execution_count": 7,
   "metadata": {},
   "outputs": [],
   "source": [
    "data_path='data/annotations/'\n",
    "sca.utils.add_annotations(adata, [data_path+'PanglaoDB_markers_27_Mar_2020.gmt',data_path+'reactome.gmt'], min_genes=5, clean=True)\n",
    "#Remove all genes not present in annotations\n",
    "adata._inplace_subset_var(adata.varm['I'].sum(1)>0)\n",
    "\n",
    "sc.pp.normalize_total(adata)\n",
    "sc.pp.log1p(adata)\n",
    "sc.pp.highly_variable_genes(\n",
    "    adata,\n",
    "    n_top_genes=2000,\n",
    "    batch_key=\"batch\",\n",
    "    subset=True)\n",
    "\n",
    "#Filter out terms with less than 12 genes \n",
    "select_terms = adata.varm['I'].sum(0)>12\n",
    "adata.uns['terms'] = np.array(adata.uns['terms'])[select_terms].tolist()\n",
    "adata.varm['I'] = adata.varm['I'][:, select_terms]"
   ]
  },
  {
   "cell_type": "code",
   "execution_count": 18,
   "metadata": {},
   "outputs": [],
   "source": [
    "adata.write_h5ad(output_adata_file)"
   ]
  }
 ],
 "metadata": {
  "kernelspec": {
   "display_name": "thesis",
   "language": "python",
   "name": "python3"
  },
  "language_info": {
   "codemirror_mode": {
    "name": "ipython",
    "version": 3
   },
   "file_extension": ".py",
   "mimetype": "text/x-python",
   "name": "python",
   "nbconvert_exporter": "python",
   "pygments_lexer": "ipython3",
   "version": "3.8.13"
  },
  "orig_nbformat": 4,
  "vscode": {
   "interpreter": {
    "hash": "10d1bd7936c97bab4011aab90821338c12e0c1d0b82a3498f3b9832575200244"
   }
  }
 },
 "nbformat": 4,
 "nbformat_minor": 2
}
