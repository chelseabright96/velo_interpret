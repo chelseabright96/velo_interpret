{
 "cells": [
  {
   "cell_type": "code",
   "execution_count": 6,
   "metadata": {},
   "outputs": [],
   "source": [
    "import scanpy as sc\n",
    "import scvelo as scv\n",
    "import scarches as sca\n",
    "import numpy as np\n",
    "import pandas as pd\n",
    "from velovi import preprocess_data\n",
    "import scarches as sca"
   ]
  },
  {
   "cell_type": "code",
   "execution_count": 7,
   "metadata": {},
   "outputs": [],
   "source": [
    "use_ontology=True\n",
    "dataset=\"pancreas\"\n",
    "\n",
    "input_adata_file = \"data/pancreas/full_processed_data.h5ad\"\n",
    "\n",
    "if use_ontology:\n",
    "    output_adata_file = \"data/pancreas/processed_ontology.h5ad\"\n",
    "else:\n",
    "    output_adata_file = \"pancreas_data_annotations.h5ad\""
   ]
  },
  {
   "cell_type": "code",
   "execution_count": 8,
   "metadata": {},
   "outputs": [],
   "source": [
    "import scanpy as sc\n",
    "adata=sc.read(input_adata_file)"
   ]
  },
  {
   "cell_type": "code",
   "execution_count": 9,
   "metadata": {},
   "outputs": [],
   "source": [
    "if dataset==\"pancreas\":\n",
    "    adata.obs[\"day\"] = adata.obs.day.map(lambda day: day.replace(\" (reference)\", \"\").replace(\" (query)\", \"\"))\n",
    "    adata=adata[adata.obs[\"day\"]==\"15.5\"]\n",
    "\n",
    "adata.layers[\"spliced\"]=adata.layers[\"spliced\"].todense()\n",
    "adata.layers[\"unspliced\"]=adata.layers[\"unspliced\"].todense()"
   ]
  },
  {
   "cell_type": "code",
   "execution_count": 10,
   "metadata": {},
   "outputs": [
    {
     "name": "stdout",
     "output_type": "stream",
     "text": [
      "Filtered out 21583 genes that are detected 30 counts (shared).\n",
      "Normalized count data: X, spliced, unspliced.\n",
      "Extracted 2000 highly variable genes.\n",
      "Logarithmized X.\n",
      "computing neighbors\n",
      "    finished (0:00:58) --> added \n",
      "    'distances' and 'connectivities', weighted adjacency matrices (adata.obsp)\n",
      "computing moments based on connectivities\n",
      "    finished (0:00:04) --> added \n",
      "    'Ms' and 'Mu', moments of un/spliced abundances (adata.layers)\n",
      "computing velocities\n",
      "    finished (0:00:01) --> added \n",
      "    'velocity', velocity vectors for each individual cell (adata.layers)\n"
     ]
    }
   ],
   "source": [
    "scv.pp.filter_and_normalize(adata, min_shared_counts=30, n_top_genes=2000)\n",
    "scv.pp.moments(adata, n_pcs=30, n_neighbors=30)\n",
    "\n",
    "adata = preprocess_data(adata)"
   ]
  },
  {
   "cell_type": "code",
   "execution_count": null,
   "metadata": {},
   "outputs": [],
   "source": [
    "if not use_ontology:\n",
    "\n",
    "    data_path='data/annotations/'\n",
    "    sca.utils.add_annotations(adata, [data_path+'PanglaoDB_markers_27_Mar_2020.gmt',data_path+'reactome.gmt'], min_genes=5, clean=True)\n",
    "    #Remove all genes not present in annotations\n",
    "    adata._inplace_subset_var(adata.varm['I'].sum(1)>0)\n",
    "\n",
    "    #Filter out terms with less than 12 genes \n",
    "    select_terms = adata.varm['I'].sum(0)>12\n",
    "    adata.uns['terms'] = np.array(adata.uns['terms'])[select_terms].tolist()\n",
    "    adata.varm['I'] = adata.varm['I'][:, select_terms]"
   ]
  },
  {
   "cell_type": "code",
   "execution_count": null,
   "metadata": {},
   "outputs": [],
   "source": [
    "adata.write_h5ad(output_adata_file)"
   ]
  },
  {
   "cell_type": "code",
   "execution_count": null,
   "metadata": {},
   "outputs": [],
   "source": [
    "adata.n_obs"
   ]
  },
  {
   "cell_type": "markdown",
   "metadata": {},
   "source": [
    "Latent Analysis"
   ]
  },
  {
   "cell_type": "code",
   "execution_count": null,
   "metadata": {},
   "outputs": [],
   "source": []
  }
 ],
 "metadata": {
  "kernelspec": {
   "display_name": "thesis",
   "language": "python",
   "name": "python3"
  },
  "language_info": {
   "codemirror_mode": {
    "name": "ipython",
    "version": 3
   },
   "file_extension": ".py",
   "mimetype": "text/x-python",
   "name": "python",
   "nbconvert_exporter": "python",
   "pygments_lexer": "ipython3",
   "version": "3.8.13"
  },
  "orig_nbformat": 4,
  "vscode": {
   "interpreter": {
    "hash": "10d1bd7936c97bab4011aab90821338c12e0c1d0b82a3498f3b9832575200244"
   }
  }
 },
 "nbformat": 4,
 "nbformat_minor": 2
}
