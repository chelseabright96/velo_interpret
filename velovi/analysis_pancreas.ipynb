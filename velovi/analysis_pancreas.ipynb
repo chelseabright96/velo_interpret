{
 "cells": [
  {
   "cell_type": "code",
   "execution_count": 1,
   "metadata": {},
   "outputs": [],
   "source": [
    "%load_ext autoreload\n",
    "%autoreload 2"
   ]
  },
  {
   "cell_type": "code",
   "execution_count": 2,
   "metadata": {},
   "outputs": [
    {
     "name": "stderr",
     "output_type": "stream",
     "text": [
      "/home/mo/miniconda3/envs/ivelo/lib/python3.8/site-packages/scvi_colab/_core.py:41: UserWarning: \n",
      "                Not currently in Google Colab environment.\n",
      "\n",
      "                Please run with `run_outside_colab=True` to override.\n",
      "\n",
      "                Returning with no further action.\n",
      "                \n",
      "  warn(\n"
     ]
    }
   ],
   "source": [
    "!pip install --quiet scvi-colab\n",
    "from scvi_colab import install\n",
    "install()"
   ]
  },
  {
   "cell_type": "code",
   "execution_count": 3,
   "metadata": {},
   "outputs": [
    {
     "name": "stderr",
     "output_type": "stream",
     "text": [
      "WARNING:root:In order to use the mouse gastrulation seqFISH datsets, please install squidpy (see https://github.com/scverse/squidpy).\n",
      "WARNING:root:In order to use sagenet models, please install pytorch geometric (see https://pytorch-geometric.readthedocs.io) and \n",
      " captum (see https://github.com/pytorch/captum).\n",
      "INFO:lightning_lite.utilities.seed:Global seed set to 0\n",
      "WARNING:root:mvTCR is not installed. To use mvTCR models, please install it first using \"pip install mvtcr\"\n",
      "WARNING:root:multigrate is not installed. To use multigrate models, please install it first using \"pip install multigrate\".\n"
     ]
    }
   ],
   "source": [
    "import numpy as np\n",
    "import pandas as pd\n",
    "import scanpy as sc\n",
    "import scvelo as scv\n",
    "import torch\n",
    "import os\n",
    "import pickle\n",
    "import mplscience\n",
    "import scarches as sca\n",
    "import matplotlib.pyplot as plt\n",
    "import seaborn as sns\n",
    "from velovi import VELOVI\n",
    "# import ontology modules\n",
    "from velovi.ontobj import *\n",
    "from velovi._model import *\n"
   ]
  },
  {
   "cell_type": "code",
   "execution_count": 4,
   "metadata": {},
   "outputs": [],
   "source": [
    "#Choose dataset\n",
    "dataset = \"pancreas\"\n",
    "\n",
    "if dataset == \"pbmc\":\n",
    "    cell_column = 'celltype'\n",
    "elif dataset == \"pancreas\":\n",
    "    cell_column = 'clusters'\n",
    "elif dataset == \"dentategyrus\":\n",
    "    cell_column = 'clusters'\n",
    "elif dataset == \"hindbrain\":\n",
    "    cell_column = 'Celltype'\n",
    "\n",
    "#Choose model to train\n",
    "model = \"hivelo\"\n",
    "\n",
    "if model ==\"hivelo\":\n",
    "    use_ontology=True"
   ]
  },
  {
   "cell_type": "code",
   "execution_count": 5,
   "metadata": {},
   "outputs": [],
   "source": [
    "if model ==\"hivelo\":\n",
    "    adata_file = \"data/\" + dataset + \"/\" + \"processed_ontology.h5ad\"\n",
    "else:\n",
    "    adata_file = \"data/\" + dataset + \"/\" + dataset + \"_data_annotations.h5ad\" #preprocessed data\n",
    "adata_output = \"data/\" + dataset + \"/\" + model + \"/\" + \"data_output.h5ad\" #path so save output adata after training model\n",
    "metrics_dict = \"output/\" + dataset + \"/\" + model + \"/latent_analysis.pkl\""
   ]
  },
  {
   "cell_type": "code",
   "execution_count": 6,
   "metadata": {},
   "outputs": [],
   "source": [
    "adata=sc.read(adata_file)"
   ]
  },
  {
   "cell_type": "markdown",
   "metadata": {},
   "source": [
    "### Create ontology object"
   ]
  },
  {
   "cell_type": "code",
   "execution_count": 7,
   "metadata": {},
   "outputs": [],
   "source": [
    "# initialize the Ontobj\n",
    "# the description should be an identifier, e.g. the ontology used, here: PWO (Pathway Ontology)\n",
    "pwo = Ontobj()"
   ]
  },
  {
   "cell_type": "code",
   "execution_count": 8,
   "metadata": {},
   "outputs": [],
   "source": [
    "# initialize our ontology\n",
    "# obo: path to an obo file\n",
    "# gene_annot: path to a tab separated file with two columns: Genes and Ontology IDs\n",
    "top_thresh=1000\n",
    "bottom_thresh=30\n",
    "path_ontology = \"data/ontology/\"\n",
    "pwo.initialize_dag(obo=path_ontology + 'pw.obo',\n",
    "                   gene_annot=path_ontology + 'gene_term_mapping.txt')\n",
    "\n",
    "# trim the ontology\n",
    "pwo.trim_dag(top_thresh=top_thresh, \n",
    "             bottom_thresh=bottom_thresh)\n",
    "\n",
    "# create masks for decoder initialization\n",
    "pwo.create_masks(top_thresh=top_thresh,\n",
    "                 bottom_thresh=bottom_thresh)\n",
    "\n",
    "# match a dataset to the ontology\n",
    "# expr_path: path to the dataset (either h5ad)\n",
    "pwo.match_dataset(expr_data = adata_file,\n",
    "                  name=dataset)                                    "
   ]
  },
  {
   "cell_type": "code",
   "execution_count": 9,
   "metadata": {},
   "outputs": [
    {
     "name": "stdout",
     "output_type": "stream",
     "text": [
      "\u001b[34mINFO    \u001b[0m File trained_models/pancreas/hivelo/model.pt already downloaded                                           \n",
      "Last Decoder layer: identity\n"
     ]
    }
   ],
   "source": [
    "adata=pwo.data[str(top_thresh) + '_' + str(bottom_thresh)][dataset].copy()\n",
    "vae=VELOVI.load(\"trained_models/\" + dataset + \"/\" + model, adata)"
   ]
  },
  {
   "cell_type": "code",
   "execution_count": null,
   "metadata": {},
   "outputs": [],
   "source": []
  }
 ],
 "metadata": {
  "kernelspec": {
   "display_name": "ivelo",
   "language": "python",
   "name": "python3"
  },
  "language_info": {
   "codemirror_mode": {
    "name": "ipython",
    "version": 3
   },
   "file_extension": ".py",
   "mimetype": "text/x-python",
   "name": "python",
   "nbconvert_exporter": "python",
   "pygments_lexer": "ipython3",
   "version": "3.8.15"
  },
  "orig_nbformat": 4,
  "vscode": {
   "interpreter": {
    "hash": "df651c7a2f95423e5f4275412d2140710a69842045359f31d13981b963977306"
   }
  }
 },
 "nbformat": 4,
 "nbformat_minor": 2
}
