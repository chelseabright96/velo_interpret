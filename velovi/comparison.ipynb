{
 "cells": [
  {
   "cell_type": "markdown",
   "id": "de4d1c96-b215-4eb6-92a0-666d27b0c9ac",
   "metadata": {},
   "source": [
    "### Load data"
   ]
  },
  {
   "cell_type": "code",
   "execution_count": 1,
   "id": "27f28dac-0920-4146-8165-04c1064b6024",
   "metadata": {},
   "outputs": [],
   "source": [
    "import numpy as np \n",
    "import matplotlib.pyplot as plt \n",
    "import pickle"
   ]
  },
  {
   "cell_type": "code",
   "execution_count": 2,
   "id": "432ebd54-09e1-4e38-8a41-71b9423c6a50",
   "metadata": {},
   "outputs": [],
   "source": [
    "#load dicts\n",
    "\n",
    "with open('output/GP_analysis_divelo.pkl', 'rb') as f:\n",
    "    divelo = pickle.load(f)\n",
    "    \n",
    "with open('output/GP_analysis_expimap.pkl', 'rb') as f:\n",
    "    expimap = pickle.load(f)\n",
    "    \n",
    "with open('output/GP_analysis_ivelo.pkl', 'rb') as f:\n",
    "    ivelo = pickle.load(f)"
   ]
  },
  {
   "cell_type": "code",
   "execution_count": 14,
   "id": "1d1f8152-12fc-4bdf-ac2b-235f8f65b511",
   "metadata": {},
   "outputs": [
    {
     "data": {
      "text/plain": [
       "defaultdict(dict,\n",
       "            {'Pre-endocrine': {'terms': array([], dtype='<U30'),\n",
       "              'bf_scores': array([], dtype=float32),\n",
       "              'sig_GP_index': []},\n",
       "             'Ductal': {'terms': array(['BETA_CELLS', 'CAJAL-RETZIUS_CELLS', 'DUCTAL_CELLS',\n",
       "                     'ENDOTHELIAL_CELLS', 'ENTEROCYTES', 'ENTEROENDOCRINE_CELLS',\n",
       "                     'ERYTHROID-LIKE_AND_ERYTHROID_P', 'HEPATIC_STELLATE_CELLS',\n",
       "                     'INTERNEURONS', 'MÜLLER_CELLS', 'NEURONS',\n",
       "                     'OLFACTORY_EPITHELIAL_CELLS', 'CELL_CELL_COMMUNICATION',\n",
       "                     'PHOSPHOLIPID_METABOLISM', 'METABOLISM_OF_AMINO_ACIDS_AND_',\n",
       "                     'NEURONAL_SYSTEM', 'REGULATION_OF_BETA_CELL_DEVELO',\n",
       "                     'SIGNALING_BY_GPCR', 'TRANSMEMBRANE_TRANSPORT_OF_SMA',\n",
       "                     'PROTEIN_FOLDING', 'METABOLISM_OF_CARBOHYDRATES',\n",
       "                     'ADAPTIVE_IMMUNE_SYSTEM'], dtype='<U30'),\n",
       "              'bf_scores': array([-2.3479419, -2.5445013,  2.3158739, -2.890978 , -2.4058206,\n",
       "                     -2.792696 ,  2.308364 , -2.7462232, -3.0514889,  2.4908497,\n",
       "                     -2.7020264, -2.5756414,  2.4462214, -2.4255972, -3.0155697,\n",
       "                     -2.7568834,  3.008999 ,  2.3647614,  2.3076415, -2.6097388,\n",
       "                     -2.416207 ,  2.5883737], dtype=float32),\n",
       "              'sig_GP_index': [11,\n",
       "               12,\n",
       "               19,\n",
       "               21,\n",
       "               24,\n",
       "               25,\n",
       "               29,\n",
       "               38,\n",
       "               40,\n",
       "               57,\n",
       "               62,\n",
       "               64,\n",
       "               98,\n",
       "               111,\n",
       "               119,\n",
       "               123,\n",
       "               124,\n",
       "               126,\n",
       "               138,\n",
       "               141,\n",
       "               199,\n",
       "               217],\n",
       "              'acc': [0.8503727369542066,\n",
       "               0.8706070287539937,\n",
       "               0.8485090521831736,\n",
       "               0.9038871139510117,\n",
       "               0.8636847710330139,\n",
       "               0.8711395101171459,\n",
       "               0.8612886048988285,\n",
       "               0.8900425985090522,\n",
       "               0.9073482428115016,\n",
       "               0.8642172523961661,\n",
       "               0.8974973375931843,\n",
       "               0.8791267305644302,\n",
       "               0.8647497337593184,\n",
       "               0.8692758253461129,\n",
       "               0.9009584664536742,\n",
       "               0.8801916932907349,\n",
       "               0.8980298189563365,\n",
       "               0.8636847710330139,\n",
       "               0.8634185303514377,\n",
       "               0.8796592119275826,\n",
       "               0.8623535676251332,\n",
       "               0.8714057507987221]},\n",
       "             'Alpha': {'terms': array(['PROXIMAL_TUBULE_CELLS', 'GPCR_LIGAND_BINDING'], dtype='<U30'),\n",
       "              'bf_scores': array([3.049269 , 2.3415406], dtype=float32),\n",
       "              'sig_GP_index': [78, 176],\n",
       "              'acc': [0.9262513312034079, 0.8919062832800851]},\n",
       "             'Ngn3 high EP': {'terms': array(['BERGMANN_GLIA', 'DENDRITIC_CELLS', 'FIBROBLASTS',\n",
       "                     'REGULATION_OF_BETA_CELL_DEVELO'], dtype='<U30'),\n",
       "              'bf_scores': array([-3.2457252, -2.6339746, -2.552063 , -3.1558704], dtype=float32),\n",
       "              'sig_GP_index': [10, 17, 30, 124],\n",
       "              'acc': [0.9286474973375932,\n",
       "               0.9275825346112886,\n",
       "               0.9100106496272631,\n",
       "               0.9222577209797657]},\n",
       "             'Delta': {'terms': array(['B_CELLS_NAIVE', 'DELTA_CELLS', 'DENDRITIC_CELLS', 'GLOMUS_CELLS',\n",
       "                     'PEPTIDE_LIGAND_BINDING_RECEPTO', 'FATTY_ACID_TRIACYLGLYCEROL_AND'],\n",
       "                    dtype='<U30'),\n",
       "              'bf_scores': array([-3.7795494,  3.9759254,  2.7110407,  2.40486  , -2.330126 ,\n",
       "                      2.650051 ], dtype=float32),\n",
       "              'sig_GP_index': [7, 16, 17, 35, 127, 184],\n",
       "              'acc': [0.9848242811501597,\n",
       "               0.9813631522896699,\n",
       "               0.9824281150159745,\n",
       "               0.9821618743343983,\n",
       "               0.9813631522896699,\n",
       "               0.9818956336528222]},\n",
       "             'Beta': {'terms': array(['BETA_CELLS', 'INTEGRATION_OF_ENERGY_METABOLI',\n",
       "                     'CLASS_I_MHC_MEDIATED_ANTIGEN_P'], dtype='<U30'),\n",
       "              'bf_scores': array([3.5010786, 2.6815686, 2.5851815], dtype=float32),\n",
       "              'sig_GP_index': [11, 129, 220],\n",
       "              'acc': [0.943024494142705,\n",
       "               0.8833865814696485,\n",
       "               0.9046858359957402]},\n",
       "             'Ngn3 low EP': {'terms': array([], dtype='<U30'),\n",
       "              'bf_scores': array([], dtype=float32),\n",
       "              'sig_GP_index': []},\n",
       "             'Trunk': {'terms': array(['ERYTHROID-LIKE_AND_ERYTHROID_P'], dtype='<U30'),\n",
       "              'bf_scores': array([2.9715414], dtype=float32),\n",
       "              'sig_GP_index': [29],\n",
       "              'acc': [0.9858892438764644]},\n",
       "             'Epsilon': {'terms': array(['EPSILON_CELLS', 'GAMMA_(PP)_CELLS'], dtype='<U30'),\n",
       "              'bf_scores': array([4.27886  , 2.4940982], dtype=float32),\n",
       "              'sig_GP_index': [28, 32],\n",
       "              'acc': [0.9861554845580405, 0.9688498402555911]},\n",
       "             'Tip': {'terms': array(['ALPHA_CELLS', 'LEYDIG_CELLS', 'METABOLISM_OF_CARBOHYDRATES'],\n",
       "                    dtype='<U30'),\n",
       "              'bf_scores': array([-2.337454 , -2.8603086, -2.368019 ], dtype=float32),\n",
       "              'sig_GP_index': [2, 42, 199],\n",
       "              'acc': [0.9984025559105432,\n",
       "               0.9984025559105432,\n",
       "               0.9984025559105432]},\n",
       "             'Multipotent': {'terms': array(['ACINAR_CELLS', 'ADIPOCYTES', 'ANTERIOR_PITUITARY_GLAND_CELLS',\n",
       "                     'BASAL_CELLS', 'CHONDROCYTES', 'ENDOTHELIAL_CELLS',\n",
       "                     'ENTERIC_NEURONS', 'ENTEROENDOCRINE_CELLS', 'FOVEOLAR_CELLS',\n",
       "                     'GOBLET_CELLS', 'HEPATOCYTES', 'MAMMARY_EPITHELIAL_CELLS',\n",
       "                     'NEUROBLASTS', 'OSTEOBLASTS', 'PLATELETS', 'SERTOLI_CELLS',\n",
       "                     'SIGNALLING_BY_NGF', 'MEIOSIS', 'GENERIC_TRANSCRIPTION_PATHWAY',\n",
       "                     'BIOLOGICAL_OXIDATIONS', 'REGULATION_OF_BETA_CELL_DEVELO',\n",
       "                     'AXON_GUIDANCE', 'MITOTIC_M_M_G1_PHASES', 'L1CAM_INTERACTIONS',\n",
       "                     'INTERFERON_SIGNALING', 'DNA_REPLICATION',\n",
       "                     'APOPTOTIC_EXECUTION_PHASE'], dtype='<U30'),\n",
       "              'bf_scores': array([ 5.3498135,  3.6310055, -3.9824686, -3.3394234, -2.8419712,\n",
       "                     -2.3894336, -3.7178288, -3.1782377, -4.6768074,  2.3691506,\n",
       "                     -3.2595668,  3.4953713, -4.073658 ,  3.2327092, -2.645686 ,\n",
       "                     -2.667976 , -2.408571 , -2.8294966,  2.8041816,  3.4503734,\n",
       "                      2.9132984,  4.511087 , -3.234236 ,  3.2098613, -4.0688715,\n",
       "                      2.612192 , -2.7104697], dtype=float32),\n",
       "              'sig_GP_index': [0,\n",
       "               1,\n",
       "               3,\n",
       "               8,\n",
       "               15,\n",
       "               21,\n",
       "               23,\n",
       "               25,\n",
       "               31,\n",
       "               36,\n",
       "               39,\n",
       "               46,\n",
       "               60,\n",
       "               67,\n",
       "               75,\n",
       "               86,\n",
       "               96,\n",
       "               99,\n",
       "               117,\n",
       "               120,\n",
       "               124,\n",
       "               150,\n",
       "               175,\n",
       "               182,\n",
       "               190,\n",
       "               197,\n",
       "               232],\n",
       "              'acc': [0.9997337593184239,\n",
       "               0.9997337593184239,\n",
       "               0.9997337593184239,\n",
       "               0.9997337593184239,\n",
       "               0.9997337593184239,\n",
       "               0.9997337593184239,\n",
       "               0.9997337593184239,\n",
       "               0.9997337593184239,\n",
       "               0.9997337593184239,\n",
       "               0.9997337593184239,\n",
       "               0.9997337593184239,\n",
       "               0.9997337593184239,\n",
       "               0.9997337593184239,\n",
       "               0.9997337593184239,\n",
       "               0.9997337593184239,\n",
       "               0.9997337593184239,\n",
       "               0.9997337593184239,\n",
       "               0.9997337593184239,\n",
       "               0.9997337593184239,\n",
       "               0.9997337593184239,\n",
       "               0.9997337593184239,\n",
       "               0.9997337593184239,\n",
       "               0.9997337593184239,\n",
       "               0.9997337593184239,\n",
       "               0.9997337593184239,\n",
       "               0.9997337593184239,\n",
       "               0.9997337593184239]}})"
      ]
     },
     "execution_count": 14,
     "metadata": {},
     "output_type": "execute_result"
    }
   ],
   "source": [
    "expimap"
   ]
  },
  {
   "cell_type": "code",
   "execution_count": 18,
   "id": "f264b073-e2d6-4a2b-b8ba-8df3db53130d",
   "metadata": {},
   "outputs": [
    {
     "data": {
      "text/plain": [
       "<matplotlib.legend.Legend at 0x7f6a44ea7160>"
      ]
     },
     "execution_count": 18,
     "metadata": {},
     "output_type": "execute_result"
    },
    {
     "data": {
      "image/png": "[encoded data removed]",
      "text/plain": [
       "<Figure size 1080x360 with 1 Axes>"
      ]
     },
     "metadata": {
      "needs_background": "light"
     },
     "output_type": "display_data"
    }
   ],
   "source": [
    "#plot no of sig GPs per cell\n",
    "\n",
    "#expimap\n",
    "cell_types=list(expimap.keys())\n",
    "no_sig_GPs_expimap=[len(expimap[ct][\"terms\"]) for ct in cell_types]\n",
    "no_sig_GPs_ivelo=[len(ivelo[ct][\"terms\"]) for ct in cell_types]\n",
    "no_sig_GPs_divelo=[len(divelo[ct][\"terms\"]) for ct in cell_types]\n",
    "\n",
    "X_axis = np.arange(len(cell_types))\n",
    "\n",
    "plt.figure(figsize=(15, 5))\n",
    "plt.xticks(X_axis, cell_types, rotation = 45)\n",
    "\n",
    "#add comparison of mult models\n",
    "plt.title(\"no. significant GPs per cell for each model\")\n",
    "plt.bar(X_axis - 0.2, no_sig_GPs_expimap, 0.2, label = 'expimap')\n",
    "plt.bar(X_axis, no_sig_GPs_ivelo, 0.2, label = 'ivelo')\n",
    "plt.bar(X_axis + 0.2, no_sig_GPs_divelo, 0.2, label = 'divelo')\n",
    "plt.legend()\n",
    "  "
   ]
  },
  {
   "cell_type": "code",
   "execution_count": 12,
   "id": "01b44f88-ad59-4f85-a32f-01eddfe172e7",
   "metadata": {},
   "outputs": [
    {
     "name": "stdout",
     "output_type": "stream",
     "text": [
      "{'Ductal': ['INTERNEURONS', 'SIGNALING_BY_GPCR']}\n"
     ]
    }
   ],
   "source": [
    "shared_GPs={}\n",
    "for ct in expimap.keys():\n",
    "    shared_set=set(expimap[ct][\"terms\"]).intersection(set(ivelo[ct][\"terms\"]), set(divelo[ct][\"terms\"]))\n",
    "    if bool(shared_set):\n",
    "        shared_GPs[ct]=list(shared_set)"
   ]
  },
  {
   "cell_type": "code",
   "execution_count": 14,
   "id": "cb62573f-6737-4c16-a371-da0a4b16ee19",
   "metadata": {},
   "outputs": [
    {
     "data": {
      "text/plain": [
       "dict_keys(['Ductal'])"
      ]
     },
     "execution_count": 14,
     "metadata": {},
     "output_type": "execute_result"
    }
   ],
   "source": [
    "shared_GPs.keys()"
   ]
  },
  {
   "cell_type": "code",
   "execution_count": 40,
   "id": "14e0954d-e9ab-42de-a9f2-5e3f6882c13f",
   "metadata": {},
   "outputs": [
    {
     "data": {
      "image/png": "[encoded data removed]",
      "text/plain": [
       "<Figure size 720x360 with 1 Axes>"
      ]
     },
     "metadata": {
      "needs_background": "light"
     },
     "output_type": "display_data"
    }
   ],
   "source": [
    "#shared GPs\n",
    "#plot accuracies per cell\n",
    "cell_types=list(shared_GPs.keys())\n",
    "plt.figure(figsize=(10, 5))\n",
    "plt.title(f\"SVM accuracy scored on training data for significant GPs of cell type {ct}\")\n",
    "for i, ct in enumerate(cell_types):\n",
    "    \n",
    "    #plt.subplot(3,2,i+1)\n",
    "    plt.xlabel(\"accuracy\")\n",
    "    \n",
    "    ind = np.arange(len(shared_GPs))\n",
    "\n",
    "    \n",
    "    plt.yticks(ind, cell_types)\n",
    "\n",
    "    xvals_expimap = expimap[ct][\"acc\"]\n",
    "    xvals_ivelo = ivelo[ct][\"acc\"]\n",
    "    xvals_divelo = divelo[ct][\"acc\"]\n",
    "    plt.barh(ind-0.1, height=0.1, width = xvals_expimap, label=\"expimap\")\n",
    "    plt.barh(ind, height=0.1, width = xvals_ivelo, label=\"ivelo\")\n",
    "    plt.barh(ind+0.1, height=0.1, width = xvals_divelo, label=\"divelo\")\n",
    "    plt.xticks(np.arange(0, 1, 0.1))\n",
    "    plt.legend()"
   ]
  },
  {
   "cell_type": "code",
   "execution_count": 27,
   "id": "6a516763-7851-42ff-961b-5651ffefc462",
   "metadata": {},
   "outputs": [
    {
     "name": "stderr",
     "output_type": "stream",
     "text": [
      "/tmp/ipykernel_50075/4016891326.py:8: MatplotlibDeprecationWarning: Auto-removal of overlapping axes is deprecated since 3.6 and will be removed two minor releases later; explicitly call ax.remove() as needed.\n",
      "  plt.subplot(3,2,i+1)\n"
     ]
    },
    {
     "data": {
      "image/png": "[encoded data removed]",
      "text/plain": [
       "<Figure size 2880x1296 with 5 Axes>"
      ]
     },
     "metadata": {
      "needs_background": "light"
     },
     "output_type": "display_data"
    }
   ],
   "source": [
    "#plot accuracies per cell\n",
    "from matplotlib import pyplot as plt\n",
    "plt.figure(figsize=(40,18))\n",
    "plt.title(\"SVM accuracy scored on training data for significant GPs\")\n",
    "cell_types1=[\"Trunk\",\"Alpha\",\"Beta\",\"Epsilon\", \"Tip\"]\n",
    "for i, ct in enumerate(cell_types1):\n",
    "    \n",
    "    plt.subplot(3,2,i+1)\n",
    "    plt.xlabel(\"accuracy\")\n",
    "    plt.title(f\"{ct}\")\n",
    "\n",
    "    ind =expimap[ct][\"terms\"]\n",
    "    xvals_expimap = expimap[ct][\"acc\"]\n",
    "    plt.barh(ind, width = xvals_expimap)"
   ]
  },
  {
   "cell_type": "code",
   "execution_count": null,
   "id": "d612426f-870f-47fb-b32c-e4c7146238bd",
   "metadata": {},
   "outputs": [],
   "source": [
    "#plot accuracies per cell\n",
    "plt.figure(figsize=(32,15))\n",
    "plt.title(\"SVM accuracy scored on training data for significant GPs\")\n",
    "cell_types2=[\"Ductal\",\"Delta\",\"Multipotent\"]\n",
    "for i, ct in enumerate(cell_types2):\n",
    "    \n",
    "    plt.subplot(2,2,i+1)\n",
    "    plt.xlabel(\"accuracy\")\n",
    "    plt.title(f\"{ct}\")\n",
    "\n",
    "    ind =top_gps_per_cell[ct][\"terms\"]\n",
    "    xvals = acc[ct]\n",
    "    plt.barh(ind, width = xvals)"
   ]
  },
  {
   "cell_type": "code",
   "execution_count": 50,
   "id": "698b436d-0d2b-461c-ab2e-81ba0268a87e",
   "metadata": {},
   "outputs": [
    {
     "data": {
      "text/plain": [
       "([<matplotlib.axis.XTick at 0x7f35646a6220>,\n",
       "  <matplotlib.axis.XTick at 0x7f35646a61f0>,\n",
       "  <matplotlib.axis.XTick at 0x7f356469c1f0>],\n",
       " [Text(1, 0, 'expimap'), Text(2, 0, 'ivelo'), Text(3, 0, 'divelo')])"
      ]
     },
     "execution_count": 50,
     "metadata": {},
     "output_type": "execute_result"
    },
    {
     "data": {
      "image/png": "[encoded data removed]",
      "text/plain": [
       "<Figure size 432x288 with 1 Axes>"
      ]
     },
     "metadata": {
      "needs_background": "light"
     },
     "output_type": "display_data"
    }
   ],
   "source": [
    "# Plot score distributions\n",
    "import pandas as pd\n",
    "avg_expimap=[]\n",
    "avg_ivelo=[]\n",
    "avg_divelo=[]\n",
    "for ct in expimap.keys():\n",
    "    if len(expimap[ct][\"terms\"])!=0:\n",
    "        avg_expimap.append(sum(expimap[ct][\"acc\"])/len(expimap[ct][\"acc\"]))\n",
    "    if len(ivelo[ct][\"terms\"])!=0:\n",
    "        avg_ivelo.append(sum(ivelo[ct][\"acc\"])/len(ivelo[ct][\"acc\"]))\n",
    "    if len(divelo[ct][\"terms\"])!=0:\n",
    "        avg_divelo.append(sum(divelo[ct][\"acc\"])/len(divelo[ct][\"acc\"]))\n",
    "#accuracies=pd.DataFrame({\"Box1\": avg_expimap, \"Box2\": avg_ivelo, \"Box3\": avg_divelo})\n",
    "                        \n",
    "#accuracies[['Box1', 'Box2', 'Box3']].plot(kind='box', title='Comparison of average accuracy scores over all significant GPs for each cell type')                    \n",
    "\n",
    "fig1, ax1 = plt.subplots()\n",
    "ax1.set_title('Comparison of average accuracy scores over all significant GPs for each cell type')\n",
    "ax1.boxplot([avg_expimap, avg_ivelo, avg_divelo])\n",
    "plt.xticks([1, 2, 3], ['expimap', 'ivelo', 'divelo'])\n",
    "#ax1.boxplot(avg_ivelo)\n",
    "#ax1.boxplot(avg_divelo)"
   ]
  },
  {
   "cell_type": "code",
   "execution_count": null,
   "id": "f3297055-790e-4987-bcb3-57c099e34046",
   "metadata": {},
   "outputs": [],
   "source": [
    "### Comparison of velocity"
   ]
  },
  {
   "cell_type": "code",
   "execution_count": null,
   "id": "e6fc84e7-dd66-4cb2-9b58-d90646ba30db",
   "metadata": {},
   "outputs": [],
   "source": [
    "#Compare the MSE for unspliced and spliced counts between Velo_interpret and original \n",
    "\n",
    "import pandas as pd\n",
    "pred=vae.get_expression_fit()\n",
    "pred_s=pred[0]\n",
    "pred_u=pred[1]\n",
    "GT_s=adata.layers[\"Ms\"]\n",
    "GT_u=adata.layers[\"Mu\"]\n",
    "MSE_s=np.mean((pred_s-GT_s)**2, axis=0)\n",
    "MSE_u=np.mean((pred_u-GT_u)**2, axis=0)\n",
    "\n",
    "velo_interpret_single_MSE=pd.DataFrame([MSE_s,MSE_u]).T\n",
    "\n",
    "velo_interpret_single_MSE.to_csv(\"MSE_velo_interpret_single.csv\")\n",
    "\n",
    "# #Read in saved MSE from velovi_orig\n",
    "# velo_orig_MSE=pd.read_csv(\"MSE_velovi_orig.csv\", index_col=\"index\")\n",
    "\n",
    "# #Calculate log10 MSE ratios\n",
    "# log10MSE_s=np.log10(velo_orig_MSE[\"0\"]/velo_interpret_MSE[0])\n",
    "# log10MSE_u=np.log10(velo_orig_MSE[\"1\"]/velo_interpret_MSE[1])\n",
    "# log10MSE_s=log10MSE_s.dropna()\n",
    "# log10MSE_u=log10MSE_u.dropna()\n",
    "\n",
    "# #Combine MSE for spliced and unspliced into 1 dataframe\n",
    "# MSE_combined=pd.DataFrame([log10MSE_s,log10MSE_u]).T\n",
    "# MSE_combined=MSE_combined.rename(columns={0:\"spliced\",1:\"unspliced\"})"
   ]
  },
  {
   "cell_type": "code",
   "execution_count": null,
   "id": "622a3caf-91dc-4ede-a99e-d2894340bbcc",
   "metadata": {},
   "outputs": [],
   "source": [
    "#Get violin plot of log10 MSEs\n",
    "ax=sns.violinplot(data=MSE_combined)\n",
    "ax.set_title(\"Log10 MSE Ratio Velo_orig/Velo_interpret\")\n",
    "MSE_fig=ax.get_figure()\n",
    "#MSE_fig.savefig(\"figures/decoder2/log10MSE.png\") "
   ]
  },
  {
   "cell_type": "code",
   "execution_count": null,
   "id": "9aec84df-e50a-4b52-b7b5-ce0be42febf3",
   "metadata": {},
   "outputs": [],
   "source": [
    "# velocity correlation\n",
    "\n",
    "scvelo.utils.vcorrcoef(X, y, mode='pearsons', axis=-1)"
   ]
  }
 ],
 "metadata": {
  "kernelspec": {
   "display_name": "thesis",
   "language": "python",
   "name": "thesis"
  },
  "language_info": {
   "codemirror_mode": {
    "name": "ipython",
    "version": 3
   },
   "file_extension": ".py",
   "mimetype": "text/x-python",
   "name": "python",
   "nbconvert_exporter": "python",
   "pygments_lexer": "ipython3",
   "version": "3.8.15"
  }
 },
 "nbformat": 4,
 "nbformat_minor": 5
}
