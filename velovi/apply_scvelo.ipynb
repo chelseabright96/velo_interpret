{
 "cells": [
  {
   "cell_type": "code",
   "execution_count": 2,
   "metadata": {},
   "outputs": [],
   "source": [
    "import numpy as np\n",
    "import pandas as pd\n",
    "import scanpy as sc\n",
    "import scvelo as scv"
   ]
  },
  {
   "cell_type": "code",
   "execution_count": 3,
   "metadata": {},
   "outputs": [],
   "source": [
    "#Choose dataset\n",
    "dataset = \"pbmc\"\n",
    "\n",
    "if dataset == \"pbmc\":\n",
    "    cell_column = 'celltype'\n",
    "elif dataset == \"pancreas\":\n",
    "    cell_column = 'clusters'\n",
    "\n",
    "input_adata_file = \"data/\" + dataset + \"/pbmc68k.h5ad\""
   ]
  },
  {
   "cell_type": "code",
   "execution_count": 4,
   "metadata": {},
   "outputs": [],
   "source": [
    "adata=sc.read(input_adata_file)"
   ]
  },
  {
   "cell_type": "code",
   "execution_count": 6,
   "metadata": {},
   "outputs": [
    {
     "name": "stdout",
     "output_type": "stream",
     "text": [
      "Filtered out 15 genes that are detected 30 counts (shared).\n",
      "WARNING: Did not normalize X as it looks processed already. To enforce normalization, set `enforce=True`.\n",
      "WARNING: Did not normalize spliced as it looks processed already. To enforce normalization, set `enforce=True`.\n",
      "WARNING: Did not normalize unspliced as it looks processed already. To enforce normalization, set `enforce=True`.\n",
      "Skip filtering by dispersion since number of variables are less than `n_top_genes`.\n",
      "WARNING: Did not modify X as it looks preprocessed already.\n",
      "computing moments based on connectivities\n",
      "    finished (0:00:02) --> added \n",
      "    'Ms' and 'Mu', moments of un/spliced abundances (adata.layers)\n"
     ]
    }
   ],
   "source": [
    "scv.pp.filter_and_normalize(adata, min_shared_counts=30, n_top_genes=2000)\n",
    "scv.pp.moments(adata, n_pcs=30, n_neighbors=30)\n"
   ]
  },
  {
   "cell_type": "code",
   "execution_count": 7,
   "metadata": {},
   "outputs": [
    {
     "name": "stdout",
     "output_type": "stream",
     "text": [
      "recovering dynamics (using 1/12 cores)\n"
     ]
    },
    {
     "data": {
      "application/vnd.jupyter.widget-view+json": {
       "model_id": "624fad977cc649f7b58cfb56af88f1e8",
       "version_major": 2,
       "version_minor": 0
      },
      "text/plain": [
       "  0%|          | 0/53 [00:00<?, ?gene/s]"
      ]
     },
     "metadata": {},
     "output_type": "display_data"
    },
    {
     "name": "stdout",
     "output_type": "stream",
     "text": [
      "    finished (0:04:41) --> added \n",
      "    'fit_pars', fitted parameters for splicing dynamics (adata.var)\n",
      "computing velocities\n",
      "    finished (0:00:03) --> added \n",
      "    'velocity', velocity vectors for each individual cell (adata.layers)\n"
     ]
    }
   ],
   "source": [
    "scv.tl.recover_dynamics(adata)\n",
    "scv.tl.velocity(adata, mode='dynamical')"
   ]
  },
  {
   "cell_type": "code",
   "execution_count": 8,
   "metadata": {},
   "outputs": [
    {
     "name": "stdout",
     "output_type": "stream",
     "text": [
      "computing velocity graph (using 1/12 cores)\n"
     ]
    },
    {
     "data": {
      "application/vnd.jupyter.widget-view+json": {
       "model_id": "cc0e3902b6134720989941238020762a",
       "version_major": 2,
       "version_minor": 0
      },
      "text/plain": [
       "  0%|          | 0/65877 [00:00<?, ?cells/s]"
      ]
     },
     "metadata": {},
     "output_type": "display_data"
    },
    {
     "name": "stdout",
     "output_type": "stream",
     "text": [
      "    finished (0:00:25) --> added \n",
      "    'velocity_graph', sparse matrix with cosine correlations (adata.uns)\n"
     ]
    }
   ],
   "source": [
    "scv.tl.velocity_graph(adata)"
   ]
  },
  {
   "cell_type": "code",
   "execution_count": 11,
   "metadata": {},
   "outputs": [
    {
     "data": {
      "text/plain": [
       "AnnData object with n_obs × n_vars = 65877 × 424\n",
       "    obs: 'celltype', 'initial_size_unspliced', 'initial_size_spliced', 'initial_size', 'n_counts', 'velocity_self_transition'\n",
       "    var: 'Accession', 'Chromosome', 'End', 'Start', 'Strand', 'fit_r2', 'fit_alpha', 'fit_beta', 'fit_gamma', 'fit_t_', 'fit_scaling', 'fit_std_u', 'fit_std_s', 'fit_likelihood', 'fit_u0', 'fit_s0', 'fit_pval_steady', 'fit_steady_u', 'fit_steady_s', 'fit_variance', 'fit_alignment_scaling', 'velocity_genes'\n",
       "    uns: 'pca', 'neighbors', 'recover_dynamics', 'velocity_params', 'velocity_graph', 'velocity_graph_neg'\n",
       "    obsm: 'X_tsne', 'X_pca'\n",
       "    varm: 'PCs', 'loss'\n",
       "    layers: 'spliced', 'unspliced', 'Ms', 'Mu', 'fit_t', 'fit_tau', 'fit_tau_', 'velocity', 'velocity_u'\n",
       "    obsp: 'distances', 'connectivities'"
      ]
     },
     "execution_count": 11,
     "metadata": {},
     "output_type": "execute_result"
    }
   ],
   "source": [
    "adata"
   ]
  },
  {
   "cell_type": "code",
   "execution_count": 12,
   "metadata": {},
   "outputs": [
    {
     "data": {
      "application/vnd.jupyter.widget-view+json": {
       "model_id": "4fafb883c1f2412d981b530e6d798fc8",
       "version_major": 2,
       "version_minor": 0
      },
      "text/plain": [
       "  0%|          | 0.00/50.0M [00:00<?, ?B/s]"
      ]
     },
     "metadata": {},
     "output_type": "display_data"
    }
   ],
   "source": [
    "adata2 = scv.datasets.pancreas()"
   ]
  },
  {
   "cell_type": "code",
   "execution_count": 10,
   "metadata": {},
   "outputs": [
    {
     "ename": "KeyError",
     "evalue": "'X_umap'",
     "output_type": "error",
     "traceback": [
      "\u001b[0;31m---------------------------------------------------------------------------\u001b[0m",
      "\u001b[0;31mKeyError\u001b[0m                                  Traceback (most recent call last)",
      "Cell \u001b[0;32mIn[10], line 1\u001b[0m\n\u001b[0;32m----> 1\u001b[0m scv\u001b[39m.\u001b[39;49mpl\u001b[39m.\u001b[39;49mvelocity_embedding_stream(adata, basis\u001b[39m=\u001b[39;49m\u001b[39m'\u001b[39;49m\u001b[39mumap\u001b[39;49m\u001b[39m'\u001b[39;49m)\n",
      "File \u001b[0;32m~/miniconda3/envs/ivelo/lib/python3.8/site-packages/scvelo/plotting/velocity_embedding_stream.py:142\u001b[0m, in \u001b[0;36mvelocity_embedding_stream\u001b[0;34m(adata, basis, vkey, density, smooth, min_mass, cutoff_perc, arrow_color, arrow_size, arrow_style, max_length, integration_direction, linewidth, n_neighbors, recompute, color, use_raw, layer, color_map, colorbar, palette, size, alpha, perc, X, V, X_grid, V_grid, sort_order, groups, components, legend_loc, legend_fontsize, legend_fontweight, xlabel, ylabel, title, fontsize, figsize, dpi, frameon, show, save, ax, ncols, **kwargs)\u001b[0m\n\u001b[1;32m    136\u001b[0m _adata \u001b[39m=\u001b[39m (\n\u001b[1;32m    137\u001b[0m     adata[groups_to_bool(adata, groups, groupby\u001b[39m=\u001b[39mcolor)]\n\u001b[1;32m    138\u001b[0m     \u001b[39mif\u001b[39;00m groups \u001b[39mis\u001b[39;00m \u001b[39mnot\u001b[39;00m \u001b[39mNone\u001b[39;00m \u001b[39mand\u001b[39;00m color \u001b[39min\u001b[39;00m adata\u001b[39m.\u001b[39mobs\u001b[39m.\u001b[39mkeys()\n\u001b[1;32m    139\u001b[0m     \u001b[39melse\u001b[39;00m adata\n\u001b[1;32m    140\u001b[0m )\n\u001b[1;32m    141\u001b[0m comps, obsm \u001b[39m=\u001b[39m get_components(components, basis), _adata\u001b[39m.\u001b[39mobsm\n\u001b[0;32m--> 142\u001b[0m X_emb \u001b[39m=\u001b[39m np\u001b[39m.\u001b[39marray(obsm[\u001b[39mf\u001b[39;49m\u001b[39m\"\u001b[39;49m\u001b[39mX_\u001b[39;49m\u001b[39m{\u001b[39;49;00mbasis\u001b[39m}\u001b[39;49;00m\u001b[39m\"\u001b[39;49m][:, comps]) \u001b[39mif\u001b[39;00m X \u001b[39mis\u001b[39;00m \u001b[39mNone\u001b[39;00m \u001b[39melse\u001b[39;00m X[:, :\u001b[39m2\u001b[39m]\n\u001b[1;32m    143\u001b[0m V_emb \u001b[39m=\u001b[39m np\u001b[39m.\u001b[39marray(obsm[\u001b[39mf\u001b[39m\u001b[39m\"\u001b[39m\u001b[39m{\u001b[39;00mvkey\u001b[39m}\u001b[39;00m\u001b[39m_\u001b[39m\u001b[39m{\u001b[39;00mbasis\u001b[39m}\u001b[39;00m\u001b[39m\"\u001b[39m][:, comps]) \u001b[39mif\u001b[39;00m V \u001b[39mis\u001b[39;00m \u001b[39mNone\u001b[39;00m \u001b[39melse\u001b[39;00m V[:, :\u001b[39m2\u001b[39m]\n\u001b[1;32m    144\u001b[0m X_grid, V_grid \u001b[39m=\u001b[39m compute_velocity_on_grid(\n\u001b[1;32m    145\u001b[0m     X_emb\u001b[39m=\u001b[39mX_emb,\n\u001b[1;32m    146\u001b[0m     V_emb\u001b[39m=\u001b[39mV_emb,\n\u001b[0;32m   (...)\u001b[0m\n\u001b[1;32m    153\u001b[0m     cutoff_perc\u001b[39m=\u001b[39mcutoff_perc,\n\u001b[1;32m    154\u001b[0m )\n",
      "File \u001b[0;32m~/miniconda3/envs/ivelo/lib/python3.8/site-packages/anndata-0.8.0-py3.8.egg/anndata/_core/aligned_mapping.py:148\u001b[0m, in \u001b[0;36mAlignedActualMixin.__getitem__\u001b[0;34m(self, key)\u001b[0m\n\u001b[1;32m    147\u001b[0m \u001b[39mdef\u001b[39;00m \u001b[39m__getitem__\u001b[39m(\u001b[39mself\u001b[39m, key: \u001b[39mstr\u001b[39m) \u001b[39m-\u001b[39m\u001b[39m>\u001b[39m V:\n\u001b[0;32m--> 148\u001b[0m     \u001b[39mreturn\u001b[39;00m \u001b[39mself\u001b[39;49m\u001b[39m.\u001b[39;49m_data[key]\n",
      "\u001b[0;31mKeyError\u001b[0m: 'X_umap'"
     ]
    }
   ],
   "source": [
    "scv.pl.velocity_embedding_stream(adata, basis='umap')"
   ]
  }
 ],
 "metadata": {
  "kernelspec": {
   "display_name": "ivelo",
   "language": "python",
   "name": "python3"
  },
  "language_info": {
   "codemirror_mode": {
    "name": "ipython",
    "version": 3
   },
   "file_extension": ".py",
   "mimetype": "text/x-python",
   "name": "python",
   "nbconvert_exporter": "python",
   "pygments_lexer": "ipython3",
   "version": "3.8.15"
  },
  "orig_nbformat": 4,
  "vscode": {
   "interpreter": {
    "hash": "df651c7a2f95423e5f4275412d2140710a69842045359f31d13981b963977306"
   }
  }
 },
 "nbformat": 4,
 "nbformat_minor": 2
}
